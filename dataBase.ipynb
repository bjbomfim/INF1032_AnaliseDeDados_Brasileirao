{
 "cells": [
  {
   "cell_type": "markdown",
   "metadata": {},
   "source": [
    "Utilizamos uma variavel de ambiente que é uma chave para conectar com o airtable. Vá na sua conta do airtable 'Account'.\n",
    "Na area API pegue sua API Key. Então no seu repo crie um arquivo .env e coloque da seguinte forma:\n",
    "export AIRTABLE_API_KEY=API_KEY\n",
    "Sendo no campo API_KEY sua key."
   ]
  },
  {
   "cell_type": "code",
   "execution_count": 1,
   "metadata": {},
   "outputs": [],
   "source": [
    "from dotenv import dotenv_values \n",
    "config = dotenv_values(\".env\")\n",
    "api_key = config['AIRTABLE_API_KEY']"
   ]
  },
  {
   "cell_type": "markdown",
   "metadata": {},
   "source": [
    "https://airtable.com/appgUg041aeWfcxGc/tblUpku2OvK6Y6FGb/viwSwDZRjL2gi2qiJ?blocks=hide"
   ]
  },
  {
   "cell_type": "code",
   "execution_count": 2,
   "metadata": {},
   "outputs": [],
   "source": [
    "from pyairtable import Table\n",
    "table = Table(api_key, 'appgUg041aeWfcxGc', 'tblUpku2OvK6Y6FGb')"
   ]
  },
  {
   "cell_type": "markdown",
   "metadata": {},
   "source": [
    "PERGUNTAS QUE DÁ PARA RESPONDER:\n",
    "1. O time que é campeão vence mais da metade dos jogos?\n",
    "2. Qual média de vitorias dos times que vencem o campeonato?\n",
    "4. E os times que fazem menos gols são os que caem?\n",
    "5. Qual média de derrotas dos times que foram rebaixados?\n",
    "7. Os times que vencem os campeonatos são os times que fazem mais gols?\n",
    "\n",
    "-------------------------\n",
    "1. Os time que tomam menos gols, ficam em qual zona na tabela?\n",
    "2. Os times que fazem mais gols, ficam em qual zona na tabela?\n",
    "3. Os times com mais empates, ficam em qual zona na tabela?\n",
    "4. Os times que tomam mais gols, ficam em qual zona na tabela?\n",
    "8. O time com melhor saldo de gols, fica em qual zona da tabela?"
   ]
  },
  {
   "cell_type": "markdown",
   "metadata": {},
   "source": [
    "PERGUNTAS QUE NÃO DÁ PARA RESPONDER:\n",
    "\n",
    "3. O time que vence o campeonato é o time que mais faz pontos no primeiro ciclo de jogos?\n",
    "6. O time que mais chuta é o time que mais faz gol?\n",
    "\n",
    "-------------------------\n",
    "5. Os 3 primeiros artilheiros do campeonato, refletem no time ficar nas zonas excelentes ou ótimas?\n",
    "6. Os times que fazem mais gols em um jogo, ficam em qual zona da tabela?\n",
    "7. Os times que tomam mais gols em um jogo, ficam em qual zona da tabela?\n",
    "9. O time com mais média de posse de bola, fica em qual zona da tabela?\n",
    "\n",
    "-------------------------\n",
    "1. Existe um esquema tatico mais vencedor no campeonato?\n",
    "2. O time que vence o campeonato, vence mais que os outros dentro e fora de casa?"
   ]
  },
  {
   "cell_type": "markdown",
   "metadata": {},
   "source": [
    "Transformando a tabela em uma list<dict>"
   ]
  },
  {
   "cell_type": "code",
   "execution_count": 3,
   "metadata": {},
   "outputs": [],
   "source": [
    "listDict = table.all()"
   ]
  },
  {
   "cell_type": "markdown",
   "metadata": {},
   "source": [
    "Passando os campos que vamos usar para a lista brasileirão."
   ]
  },
  {
   "cell_type": "code",
   "execution_count": 4,
   "metadata": {},
   "outputs": [],
   "source": [
    "listaBrasileirao = []\n",
    "for i in listDict:\n",
    "    listaBrasileirao.append(i['fields'])\n"
   ]
  },
  {
   "cell_type": "markdown",
   "metadata": {},
   "source": [
    "Salvando em Json, para utilização"
   ]
  },
  {
   "cell_type": "code",
   "execution_count": 5,
   "metadata": {},
   "outputs": [
    {
     "name": "stdout",
     "output_type": "stream",
     "text": [
      "None\n"
     ]
    }
   ],
   "source": [
    "import json\n",
    "with open('listaBrasileirao.json', 'w') as json_file:\n",
    "    jsonStr = json.dump(listaBrasileirao, json_file, ensure_ascii=False)\n",
    "    print(jsonStr)"
   ]
  },
  {
   "cell_type": "markdown",
   "metadata": {},
   "source": [
    "Documento json pronto para uso"
   ]
  },
  {
   "cell_type": "code",
   "execution_count": 6,
   "metadata": {},
   "outputs": [],
   "source": [
    "import pandas as pd\n",
    "import numpy as np\n",
    "import seaborn as sns\n",
    "import matplotlib.pyplot as plt\n",
    "import plotly.express as px\n",
    "\n",
    "listaBrasileirao = pd.read_json('listaBrasileirao.json')"
   ]
  },
  {
   "cell_type": "markdown",
   "metadata": {},
   "source": [
    "O time que é campeão vence mais da metade dos jogos?"
   ]
  },
  {
   "cell_type": "code",
   "execution_count": 7,
   "metadata": {},
   "outputs": [
    {
     "data": {
      "image/png": "[encoded data removed]",
      "text/plain": [
       "<Figure size 432x288 with 1 Axes>"
      ]
     },
     "metadata": {
      "needs_background": "light"
     },
     "output_type": "display_data"
    }
   ],
   "source": [
    "sns.scatterplot(x = 'Ano', y = listaBrasileirao['Vitorias'].where(listaBrasileirao['Posicao'] == 1) ,data=listaBrasileirao)\n",
    "plt.show()\n"
   ]
  },
  {
   "cell_type": "code",
   "execution_count": 18,
   "metadata": {},
   "outputs": [
    {
     "name": "stderr",
     "output_type": "stream",
     "text": [
      "/Users/alexandrebomfim/opt/anaconda3/lib/python3.9/site-packages/seaborn/_decorators.py:36: FutureWarning: Pass the following variable as a keyword arg: x. From version 0.12, the only valid positional argument will be `data`, and passing other arguments without an explicit keyword will result in an error or misinterpretation.\n",
      "  warnings.warn(\n"
     ]
    },
    {
     "data": {
      "text/plain": [
       "<AxesSubplot:xlabel='Posicao', ylabel='count'>"
      ]
     },
     "execution_count": 18,
     "metadata": {},
     "output_type": "execute_result"
    },
    {
     "data": {
      "image/png": "[encoded data removed]",
      "text/plain": [
       "<Figure size 432x288 with 1 Axes>"
      ]
     },
     "metadata": {
      "needs_background": "light"
     },
     "output_type": "display_data"
    }
   ],
   "source": [
    "sns.countplot(listaBrasileirao['Posicao'].where(listaBrasileirao['Vitorias'] > 19))"
   ]
  },
  {
   "cell_type": "markdown",
   "metadata": {},
   "source": [
    "Os quatro primeiros times vencem mais da metade dos jogos?"
   ]
  },
  {
   "cell_type": "code",
   "execution_count": 48,
   "metadata": {},
   "outputs": [
    {
     "data": {
      "image/png": "[encoded data removed]",
      "text/plain": [
       "<Figure size 432x288 with 1 Axes>"
      ]
     },
     "metadata": {
      "needs_background": "light"
     },
     "output_type": "display_data"
    }
   ],
   "source": [
    "sns.stripplot(x='Ano',y = listaBrasileirao['Vitorias'].where(listaBrasileirao['Vitorias'] > 19), data=listaBrasileirao)\n",
    "plt.show()"
   ]
  }
 ],
 "metadata": {
  "kernelspec": {
   "display_name": "Python 3.9.7 ('base')",
   "language": "python",
   "name": "python3"
  },
  "language_info": {
   "codemirror_mode": {
    "name": "ipython",
    "version": 3
   },
   "file_extension": ".py",
   "mimetype": "text/x-python",
   "name": "python",
   "nbconvert_exporter": "python",
   "pygments_lexer": "ipython3",
   "version": "3.9.7"
  },
  "orig_nbformat": 4,
  "vscode": {
   "interpreter": {
    "hash": "c442dd7f3a5c14190a83d939ba16ad476e07374d22964649b3b3bb6963ed1656"
   }
  }
 },
 "nbformat": 4,
 "nbformat_minor": 2
}
