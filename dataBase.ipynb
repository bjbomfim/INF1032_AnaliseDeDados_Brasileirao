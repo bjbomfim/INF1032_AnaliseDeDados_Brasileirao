{
 "cells": [
  {
   "cell_type": "markdown",
   "metadata": {},
   "source": [
    "Utilizamos uma variavel de ambiente que é uma chave para conectar com o airtable. Vá na sua conta do airtable 'Account'.\n",
    "Na area API pegue sua API Key. Então no seu repo crie um arquivo .env e coloque da seguinte forma:\n",
    "export AIRTABLE_API_KEY=API_KEY\n",
    "Sendo no campo API_KEY sua key."
   ]
  },
  {
   "cell_type": "code",
   "execution_count": 5,
   "metadata": {},
   "outputs": [],
   "source": [
    "from dotenv import dotenv_values \n",
    "config = dotenv_values(\".env\")\n",
    "api_key = config['AIRTABLE_API_KEY']"
   ]
  },
  {
   "cell_type": "markdown",
   "metadata": {},
   "source": [
    "https://airtable.com/appgUg041aeWfcxGc/tblUpku2OvK6Y6FGb/viwSwDZRjL2gi2qiJ?blocks=hide"
   ]
  },
  {
   "cell_type": "code",
   "execution_count": 6,
   "metadata": {},
   "outputs": [],
   "source": [
    "from pyairtable import Table\n",
    "table = Table(api_key, 'appgUg041aeWfcxGc', 'tblUpku2OvK6Y6FGb')"
   ]
  },
  {
   "cell_type": "markdown",
   "metadata": {},
   "source": [
    "PERGUNTAS QUE DÁ PARA RESPONDER:\n",
    "1. O time que é campeão vence mais da metade dos jogos?\n",
    "2. Qual média de vitorias dos times que vencem o campeonato?\n",
    "4. E os times que fazem menos gols são os que caem?\n",
    "5. Qual média de derrotas dos times que foram rebaixados?\n",
    "7. Os times que vencem os campeonatos são os times que fazem mais gols?\n",
    "\n",
    "-------------------------\n",
    "1. Os time que tomam menos gols, ficam em qual zona na tabela?\n",
    "2. Os times que fazem mais gols, ficam em qual zona na tabela?\n",
    "3. Os times com mais empates, ficam em qual zona na tabela?\n",
    "4. Os times que tomam mais gols, ficam em qual zona na tabela?\n",
    "8. O time com melhor saldo de gols, fica em qual zona da tabela?"
   ]
  },
  {
   "cell_type": "markdown",
   "metadata": {},
   "source": [
    "PERGUNTAS QUE NÃO DÁ PARA RESPONDER:\n",
    "3. O time que vence o campeonato é o time que mais faz pontos no primeiro ciclo de jogos?\n",
    "6. O time que mais chuta é o time que mais faz gol?\n",
    "\n",
    "-------------------------\n",
    "5. Os 3 primeiros artilheiros do campeonato, refletem no time ficar nas zonas excelentes ou ótimas?\n",
    "6. Os times que fazem mais gols em um jogo, ficam em qual zona da tabela?\n",
    "7. Os times que tomam mais gols em um jogo, ficam em qual zona da tabela?\n",
    "9. O time com mais média de posse de bola, fica em qual zona da tabela?\n",
    "\n",
    "-------------------------\n",
    "1. Existe um esquema tatico mais vencedor no campeonato?\n",
    "2. O time que vence o campeonato, vence mais que os outros dentro e fora de casa?"
   ]
  }
 ],
 "metadata": {
  "kernelspec": {
   "display_name": "Python 3.9.7 ('base')",
   "language": "python",
   "name": "python3"
  },
  "language_info": {
   "codemirror_mode": {
    "name": "ipython",
    "version": 3
   },
   "file_extension": ".py",
   "mimetype": "text/x-python",
   "name": "python",
   "nbconvert_exporter": "python",
   "pygments_lexer": "ipython3",
   "version": "3.9.7"
  },
  "orig_nbformat": 4,
  "vscode": {
   "interpreter": {
    "hash": "c442dd7f3a5c14190a83d939ba16ad476e07374d22964649b3b3bb6963ed1656"
   }
  }
 },
 "nbformat": 4,
 "nbformat_minor": 2
}
