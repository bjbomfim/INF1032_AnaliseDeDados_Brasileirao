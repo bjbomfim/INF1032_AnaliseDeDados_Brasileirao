{
 "cells": [
  {
   "cell_type": "markdown",
   "metadata": {},
   "source": [
    "### Importando \n",
    "Todos os dados que obtivemos nesse primeiro momento se encontram dentro de um banco de dados AirTable. Para utilizar em nossa analise vamos baixa-lo e armazena-lo localmente como um .json"
   ]
  },
  {
   "cell_type": "markdown",
   "metadata": {},
   "source": [
    "Utilizamos uma variavel de ambiente que é uma chave para conectar com o airtable. Vá na sua conta do airtable 'Account'.\n",
    "Na area API pegue sua API Key. Então no seu repo crie um arquivo .env e coloque da seguinte forma:\n",
    "export AIRTABLE_API_KEY=API_KEY\n",
    "Sendo no campo API_KEY sua key."
   ]
  },
  {
   "cell_type": "code",
   "execution_count": 1,
   "metadata": {},
   "outputs": [],
   "source": [
    "from dotenv import dotenv_values \n",
    "config = dotenv_values(\".env\")\n",
    "api_key = config['AIRTABLE_API_KEY']"
   ]
  },
  {
   "cell_type": "markdown",
   "metadata": {},
   "source": [
    "https://airtable.com/appgUg041aeWfcxGc/tblUpku2OvK6Y6FGb/viwSwDZRjL2gi2qiJ?blocks=hide"
   ]
  },
  {
   "cell_type": "code",
   "execution_count": 2,
   "metadata": {},
   "outputs": [],
   "source": [
    "from pyairtable import Table\n",
    "table = Table(api_key, 'appgUg041aeWfcxGc', 'tblUpku2OvK6Y6FGb')"
   ]
  },
  {
   "cell_type": "code",
   "execution_count": 4,
   "metadata": {},
   "outputs": [],
   "source": [
    "import json\n",
    "listDict = table.all()\n",
    "listaBrasileirao = []\n",
    "for i in listDict:\n",
    "    listaBrasileirao.append(i['fields'])\n",
    "\n",
    "with open('dataset/listaBrasileirao.json', 'w') as json_file:\n",
    "    jsonStr = json.dump(listaBrasileirao, json_file, ensure_ascii=False)\n",
    "    print(jsonStr)\n"
   ]
  },
  {
   "cell_type": "markdown",
   "metadata": {},
   "source": [
    "# Analise de dados"
   ]
  },
  {
   "cell_type": "markdown",
   "metadata": {},
   "source": [
    "Nesse notebook nos buscamos tratar de responder e explorar as seguintes perguntas\n",
    "\n",
    "1. O time que é campeão vence mais da metade dos jogos? - RESPONDIDO\n",
    "2. Qual média de vitorias dos times que vencem o campeonato? - RESPONDIDO\n",
    "4. E os times que fazem menos gols são os que caem? \n",
    "5. Qual média de derrotas dos times que foram rebaixados?\n",
    "7. Os times que vencem os campeonatos são os times que fazem mais gols?\n",
    "\n",
    "1. Os time que tomam menos gols, ficam em qual zona na tabela?\n",
    "2. Os times que fazem mais gols, ficam em qual zona na tabela?\n",
    "3. Os times com mais empates, ficam em qual zona na tabela?\n",
    "4. Os times que tomam mais gols, ficam em qual zona na tabela?\n",
    "8. O time com melhor saldo de gols, fica em qual zona da tabela?"
   ]
  },
  {
   "cell_type": "code",
   "execution_count": 7,
   "metadata": {},
   "outputs": [
    {
     "data": {
      "text/html": [
       "<div>\n",
       "<style scoped>\n",
       "    .dataframe tbody tr th:only-of-type {\n",
       "        vertical-align: middle;\n",
       "    }\n",
       "\n",
       "    .dataframe tbody tr th {\n",
       "        vertical-align: top;\n",
       "    }\n",
       "\n",
       "    .dataframe thead th {\n",
       "        text-align: right;\n",
       "    }\n",
       "</style>\n",
       "<table border=\"1\" class=\"dataframe\">\n",
       "  <thead>\n",
       "    <tr style=\"text-align: right;\">\n",
       "      <th></th>\n",
       "      <th>Posicao</th>\n",
       "      <th>Jogos</th>\n",
       "      <th>Empates</th>\n",
       "      <th>Derrotas</th>\n",
       "      <th>Vitorias</th>\n",
       "      <th>Ano</th>\n",
       "      <th>Pontos</th>\n",
       "      <th>Cartao Vermelho</th>\n",
       "      <th>Cartao Amarelo</th>\n",
       "      <th>Time</th>\n",
       "      <th>Gols Contra</th>\n",
       "      <th>Gols Pro</th>\n",
       "      <th>Saldo Gols</th>\n",
       "    </tr>\n",
       "  </thead>\n",
       "  <tbody>\n",
       "    <tr>\n",
       "      <th>0</th>\n",
       "      <td>10</td>\n",
       "      <td>38</td>\n",
       "      <td>10</td>\n",
       "      <td>14</td>\n",
       "      <td>14</td>\n",
       "      <td>2016</td>\n",
       "      <td>52</td>\n",
       "      <td>5</td>\n",
       "      <td>87</td>\n",
       "      <td>SãoPaulo</td>\n",
       "      <td>36</td>\n",
       "      <td>44</td>\n",
       "      <td>8</td>\n",
       "    </tr>\n",
       "    <tr>\n",
       "      <th>1</th>\n",
       "      <td>3</td>\n",
       "      <td>38</td>\n",
       "      <td>8</td>\n",
       "      <td>10</td>\n",
       "      <td>20</td>\n",
       "      <td>2020</td>\n",
       "      <td>68</td>\n",
       "      <td>6</td>\n",
       "      <td>72</td>\n",
       "      <td>Atlético</td>\n",
       "      <td>45</td>\n",
       "      <td>64</td>\n",
       "      <td>19</td>\n",
       "    </tr>\n",
       "    <tr>\n",
       "      <th>2</th>\n",
       "      <td>10</td>\n",
       "      <td>38</td>\n",
       "      <td>7</td>\n",
       "      <td>16</td>\n",
       "      <td>15</td>\n",
       "      <td>2019</td>\n",
       "      <td>52</td>\n",
       "      <td>7</td>\n",
       "      <td>86</td>\n",
       "      <td>Goiás</td>\n",
       "      <td>64</td>\n",
       "      <td>46</td>\n",
       "      <td>-18</td>\n",
       "    </tr>\n",
       "    <tr>\n",
       "      <th>3</th>\n",
       "      <td>4</td>\n",
       "      <td>38</td>\n",
       "      <td>8</td>\n",
       "      <td>12</td>\n",
       "      <td>18</td>\n",
       "      <td>2015</td>\n",
       "      <td>62</td>\n",
       "      <td>5</td>\n",
       "      <td>73</td>\n",
       "      <td>SãoPaulo</td>\n",
       "      <td>47</td>\n",
       "      <td>53</td>\n",
       "      <td>6</td>\n",
       "    </tr>\n",
       "    <tr>\n",
       "      <th>4</th>\n",
       "      <td>3</td>\n",
       "      <td>38</td>\n",
       "      <td>6</td>\n",
       "      <td>11</td>\n",
       "      <td>21</td>\n",
       "      <td>2014</td>\n",
       "      <td>69</td>\n",
       "      <td>6</td>\n",
       "      <td>92</td>\n",
       "      <td>Internacional</td>\n",
       "      <td>41</td>\n",
       "      <td>53</td>\n",
       "      <td>12</td>\n",
       "    </tr>\n",
       "  </tbody>\n",
       "</table>\n",
       "</div>"
      ],
      "text/plain": [
       "   Posicao  Jogos  Empates  Derrotas  Vitorias   Ano  Pontos  Cartao Vermelho  \\\n",
       "0       10     38       10        14        14  2016      52                5   \n",
       "1        3     38        8        10        20  2020      68                6   \n",
       "2       10     38        7        16        15  2019      52                7   \n",
       "3        4     38        8        12        18  2015      62                5   \n",
       "4        3     38        6        11        21  2014      69                6   \n",
       "\n",
       "   Cartao Amarelo           Time  Gols Contra  Gols Pro  Saldo Gols  \n",
       "0              87       SãoPaulo           36        44           8  \n",
       "1              72       Atlético           45        64          19  \n",
       "2              86          Goiás           64        46         -18  \n",
       "3              73       SãoPaulo           47        53           6  \n",
       "4              92  Internacional           41        53          12  "
      ]
     },
     "execution_count": 7,
     "metadata": {},
     "output_type": "execute_result"
    }
   ],
   "source": [
    "import pandas as pd\n",
    "import numpy as np\n",
    "import seaborn as sns\n",
    "import matplotlib.pyplot as plt\n",
    "\n",
    "dfBrasileirao = pd.read_json('dataset/listaBrasileirao.json')\n",
    "dfBrasileirao.head()"
   ]
  },
  {
   "cell_type": "markdown",
   "metadata": {},
   "source": [
    "### Pre Analise"
   ]
  },
  {
   "cell_type": "code",
   "execution_count": 6,
   "metadata": {},
   "outputs": [
    {
     "name": "stdout",
     "output_type": "stream",
     "text": [
      "<class 'pandas.core.frame.DataFrame'>\n",
      "RangeIndex: 200 entries, 0 to 199\n",
      "Data columns (total 13 columns):\n",
      " #   Column           Non-Null Count  Dtype \n",
      "---  ------           --------------  ----- \n",
      " 0   Posicao          200 non-null    int64 \n",
      " 1   Jogos            200 non-null    int64 \n",
      " 2   Empates          200 non-null    int64 \n",
      " 3   Derrotas         200 non-null    int64 \n",
      " 4   Vitorias         200 non-null    int64 \n",
      " 5   Ano              200 non-null    int64 \n",
      " 6   Pontos           200 non-null    int64 \n",
      " 7   Cartao Vermelho  200 non-null    int64 \n",
      " 8   Cartao Amarelo   200 non-null    int64 \n",
      " 9   Time             200 non-null    object\n",
      " 10  Gols Contra      200 non-null    int64 \n",
      " 11  Gols Pro         200 non-null    int64 \n",
      " 12  Saldo Gols       200 non-null    int64 \n",
      "dtypes: int64(12), object(1)\n",
      "memory usage: 20.4+ KB\n"
     ]
    }
   ],
   "source": [
    "dfBrasileirao.info()"
   ]
  },
  {
   "cell_type": "code",
   "execution_count": 8,
   "metadata": {},
   "outputs": [
    {
     "data": {
      "text/html": [
       "<div>\n",
       "<style scoped>\n",
       "    .dataframe tbody tr th:only-of-type {\n",
       "        vertical-align: middle;\n",
       "    }\n",
       "\n",
       "    .dataframe tbody tr th {\n",
       "        vertical-align: top;\n",
       "    }\n",
       "\n",
       "    .dataframe thead th {\n",
       "        text-align: right;\n",
       "    }\n",
       "</style>\n",
       "<table border=\"1\" class=\"dataframe\">\n",
       "  <thead>\n",
       "    <tr style=\"text-align: right;\">\n",
       "      <th></th>\n",
       "      <th>Posicao</th>\n",
       "      <th>Jogos</th>\n",
       "      <th>Empates</th>\n",
       "      <th>Derrotas</th>\n",
       "      <th>Vitorias</th>\n",
       "      <th>Ano</th>\n",
       "      <th>Pontos</th>\n",
       "      <th>Cartao Vermelho</th>\n",
       "      <th>Cartao Amarelo</th>\n",
       "      <th>Gols Contra</th>\n",
       "      <th>Gols Pro</th>\n",
       "      <th>Saldo Gols</th>\n",
       "    </tr>\n",
       "  </thead>\n",
       "  <tbody>\n",
       "    <tr>\n",
       "      <th>count</th>\n",
       "      <td>200.000000</td>\n",
       "      <td>200.0</td>\n",
       "      <td>200.000000</td>\n",
       "      <td>200.00000</td>\n",
       "      <td>200.000000</td>\n",
       "      <td>200.000000</td>\n",
       "      <td>200.00000</td>\n",
       "      <td>200.000000</td>\n",
       "      <td>200.000000</td>\n",
       "      <td>200.000000</td>\n",
       "      <td>200.000000</td>\n",
       "      <td>200.00000</td>\n",
       "    </tr>\n",
       "    <tr>\n",
       "      <th>mean</th>\n",
       "      <td>10.500000</td>\n",
       "      <td>38.0</td>\n",
       "      <td>10.220000</td>\n",
       "      <td>13.89500</td>\n",
       "      <td>13.885000</td>\n",
       "      <td>2016.500000</td>\n",
       "      <td>51.82000</td>\n",
       "      <td>5.195000</td>\n",
       "      <td>87.890000</td>\n",
       "      <td>44.810000</td>\n",
       "      <td>44.780000</td>\n",
       "      <td>-0.03000</td>\n",
       "    </tr>\n",
       "    <tr>\n",
       "      <th>std</th>\n",
       "      <td>5.780751</td>\n",
       "      <td>0.0</td>\n",
       "      <td>2.550318</td>\n",
       "      <td>4.41491</td>\n",
       "      <td>4.380378</td>\n",
       "      <td>2.879489</td>\n",
       "      <td>12.70293</td>\n",
       "      <td>2.709925</td>\n",
       "      <td>12.195143</td>\n",
       "      <td>9.400839</td>\n",
       "      <td>11.277745</td>\n",
       "      <td>16.81436</td>\n",
       "    </tr>\n",
       "    <tr>\n",
       "      <th>min</th>\n",
       "      <td>1.000000</td>\n",
       "      <td>38.0</td>\n",
       "      <td>4.000000</td>\n",
       "      <td>4.00000</td>\n",
       "      <td>1.000000</td>\n",
       "      <td>2012.000000</td>\n",
       "      <td>15.00000</td>\n",
       "      <td>0.000000</td>\n",
       "      <td>61.000000</td>\n",
       "      <td>22.000000</td>\n",
       "      <td>18.000000</td>\n",
       "      <td>-57.00000</td>\n",
       "    </tr>\n",
       "    <tr>\n",
       "      <th>25%</th>\n",
       "      <td>5.750000</td>\n",
       "      <td>38.0</td>\n",
       "      <td>8.000000</td>\n",
       "      <td>11.00000</td>\n",
       "      <td>11.000000</td>\n",
       "      <td>2014.000000</td>\n",
       "      <td>44.00000</td>\n",
       "      <td>3.000000</td>\n",
       "      <td>80.750000</td>\n",
       "      <td>38.000000</td>\n",
       "      <td>37.000000</td>\n",
       "      <td>-9.25000</td>\n",
       "    </tr>\n",
       "    <tr>\n",
       "      <th>50%</th>\n",
       "      <td>10.500000</td>\n",
       "      <td>38.0</td>\n",
       "      <td>10.000000</td>\n",
       "      <td>14.00000</td>\n",
       "      <td>13.000000</td>\n",
       "      <td>2016.500000</td>\n",
       "      <td>51.00000</td>\n",
       "      <td>5.000000</td>\n",
       "      <td>87.000000</td>\n",
       "      <td>44.000000</td>\n",
       "      <td>44.000000</td>\n",
       "      <td>-1.00000</td>\n",
       "    </tr>\n",
       "    <tr>\n",
       "      <th>75%</th>\n",
       "      <td>15.250000</td>\n",
       "      <td>38.0</td>\n",
       "      <td>12.000000</td>\n",
       "      <td>17.00000</td>\n",
       "      <td>16.250000</td>\n",
       "      <td>2019.000000</td>\n",
       "      <td>59.00000</td>\n",
       "      <td>7.000000</td>\n",
       "      <td>95.000000</td>\n",
       "      <td>50.250000</td>\n",
       "      <td>51.000000</td>\n",
       "      <td>11.00000</td>\n",
       "    </tr>\n",
       "    <tr>\n",
       "      <th>max</th>\n",
       "      <td>20.000000</td>\n",
       "      <td>38.0</td>\n",
       "      <td>17.000000</td>\n",
       "      <td>28.00000</td>\n",
       "      <td>28.000000</td>\n",
       "      <td>2021.000000</td>\n",
       "      <td>90.00000</td>\n",
       "      <td>14.000000</td>\n",
       "      <td>121.000000</td>\n",
       "      <td>79.000000</td>\n",
       "      <td>86.000000</td>\n",
       "      <td>49.00000</td>\n",
       "    </tr>\n",
       "  </tbody>\n",
       "</table>\n",
       "</div>"
      ],
      "text/plain": [
       "          Posicao  Jogos     Empates   Derrotas    Vitorias          Ano  \\\n",
       "count  200.000000  200.0  200.000000  200.00000  200.000000   200.000000   \n",
       "mean    10.500000   38.0   10.220000   13.89500   13.885000  2016.500000   \n",
       "std      5.780751    0.0    2.550318    4.41491    4.380378     2.879489   \n",
       "min      1.000000   38.0    4.000000    4.00000    1.000000  2012.000000   \n",
       "25%      5.750000   38.0    8.000000   11.00000   11.000000  2014.000000   \n",
       "50%     10.500000   38.0   10.000000   14.00000   13.000000  2016.500000   \n",
       "75%     15.250000   38.0   12.000000   17.00000   16.250000  2019.000000   \n",
       "max     20.000000   38.0   17.000000   28.00000   28.000000  2021.000000   \n",
       "\n",
       "          Pontos  Cartao Vermelho  Cartao Amarelo  Gols Contra    Gols Pro  \\\n",
       "count  200.00000       200.000000      200.000000   200.000000  200.000000   \n",
       "mean    51.82000         5.195000       87.890000    44.810000   44.780000   \n",
       "std     12.70293         2.709925       12.195143     9.400839   11.277745   \n",
       "min     15.00000         0.000000       61.000000    22.000000   18.000000   \n",
       "25%     44.00000         3.000000       80.750000    38.000000   37.000000   \n",
       "50%     51.00000         5.000000       87.000000    44.000000   44.000000   \n",
       "75%     59.00000         7.000000       95.000000    50.250000   51.000000   \n",
       "max     90.00000        14.000000      121.000000    79.000000   86.000000   \n",
       "\n",
       "       Saldo Gols  \n",
       "count   200.00000  \n",
       "mean     -0.03000  \n",
       "std      16.81436  \n",
       "min     -57.00000  \n",
       "25%      -9.25000  \n",
       "50%      -1.00000  \n",
       "75%      11.00000  \n",
       "max      49.00000  "
      ]
     },
     "execution_count": 8,
     "metadata": {},
     "output_type": "execute_result"
    }
   ],
   "source": [
    "dfBrasileirao.describe()"
   ]
  },
  {
   "cell_type": "markdown",
   "metadata": {},
   "source": [
    "### 1. O time que é campeão vence mais da metade dos jogos?"
   ]
  },
  {
   "cell_type": "code",
   "execution_count": 9,
   "metadata": {},
   "outputs": [
    {
     "data": {
      "image/png": "[encoded data removed]",
      "text/plain": [
       "<Figure size 432x288 with 1 Axes>"
      ]
     },
     "metadata": {
      "needs_background": "light"
     },
     "output_type": "display_data"
    }
   ],
   "source": [
    "sns.scatterplot(x = 'Ano', y = dfBrasileirao['Vitorias'].where(dfBrasileirao['Posicao'] == 1) ,data=dfBrasileirao)\n",
    "plt.show()\n"
   ]
  },
  {
   "cell_type": "code",
   "execution_count": 11,
   "metadata": {},
   "outputs": [
    {
     "name": "stderr",
     "output_type": "stream",
     "text": [
      "/Users/joao/opt/anaconda3/lib/python3.9/site-packages/seaborn/_decorators.py:36: FutureWarning: Pass the following variable as a keyword arg: x. From version 0.12, the only valid positional argument will be `data`, and passing other arguments without an explicit keyword will result in an error or misinterpretation.\n",
      "  warnings.warn(\n"
     ]
    },
    {
     "data": {
      "image/png": "[encoded data removed]",
      "text/plain": [
       "<Figure size 432x288 with 1 Axes>"
      ]
     },
     "metadata": {
      "needs_background": "light"
     },
     "output_type": "display_data"
    }
   ],
   "source": [
    "sns.countplot(dfBrasileirao['Posicao'].where(dfBrasileirao['Vitorias'] > 19));"
   ]
  },
  {
   "cell_type": "markdown",
   "metadata": {},
   "source": [
    "#### Os quatro primeiros times vencem mais da metade dos jogos?"
   ]
  },
  {
   "cell_type": "code",
   "execution_count": 12,
   "metadata": {},
   "outputs": [
    {
     "data": {
      "image/png": "[encoded data removed]",
      "text/plain": [
       "<Figure size 432x288 with 1 Axes>"
      ]
     },
     "metadata": {
      "needs_background": "light"
     },
     "output_type": "display_data"
    }
   ],
   "source": [
    "sns.stripplot(x='Ano',y = dfBrasileirao['Vitorias'].where(dfBrasileirao['Vitorias'] > 19), data=dfBrasileirao)\n",
    "plt.show()"
   ]
  },
  {
   "cell_type": "markdown",
   "metadata": {},
   "source": [
    "### 2. Qual média de vitorias dos times que vencem o campeonato?"
   ]
  },
  {
   "cell_type": "code",
   "execution_count": 13,
   "metadata": {},
   "outputs": [
    {
     "data": {
      "text/plain": [
       "23.6"
      ]
     },
     "execution_count": 13,
     "metadata": {},
     "output_type": "execute_result"
    }
   ],
   "source": [
    "listaBrasileirao['Vitorias'].where(listaBrasileirao['Posicao'] == 1).mean()"
   ]
  },
  {
   "cell_type": "markdown",
   "metadata": {},
   "source": [
    "### 3. E os times que fazem menos gols são os que caem?"
   ]
  },
  {
   "cell_type": "code",
   "execution_count": 14,
   "metadata": {},
   "outputs": [
    {
     "name": "stdout",
     "output_type": "stream",
     "text": [
      "Posicao\n",
      "Jogos\n",
      "Empates\n",
      "Derrotas\n",
      "Vitorias\n",
      "Ano\n",
      "Pontos\n",
      "Cartao Vermelho\n",
      "Cartao Amarelo\n",
      "Time\n",
      "Gols Contra\n",
      "Gols Pro\n",
      "Saldo Gols\n",
      "[     Posicao  Jogos  Empates  Derrotas  Vitorias   Ano  Pontos  \\\n",
      "0         10     38       10        14        14  2016      52   \n",
      "1          3     38        8        10        20  2020      68   \n",
      "2         10     38        7        16        15  2019      52   \n",
      "3          4     38        8        12        18  2015      62   \n",
      "4          3     38        6        11        21  2014      69   \n",
      "..       ...    ...      ...       ...       ...   ...     ...   \n",
      "195       17     38       15        16         7  2019      36   \n",
      "196       12     38        4        19        15  2015      49   \n",
      "197       17     38       12        14        12  2013      44   \n",
      "198        3     38       11         7        20  2016      71   \n",
      "199        6     38        8        13        17  2018      59   \n",
      "\n",
      "     Cartao Vermelho  Cartao Amarelo           Time  Gols Contra  Gols Pro  \\\n",
      "0                  5              87       SãoPaulo           36        44   \n",
      "1                  6              72       Atlético           45        64   \n",
      "2                  7              86          Goiás           64        46   \n",
      "3                  5              73       SãoPaulo           47        53   \n",
      "4                  6              92  Internacional           41        53   \n",
      "..               ...             ...            ...          ...       ...   \n",
      "195                6              81       Cruzeiro           46        27   \n",
      "196                6              82       Flamengo           53        45   \n",
      "197                9              89     Portuguesa           46        50   \n",
      "198                5              62       Flamengo           35        52   \n",
      "199                3              90       Atlético           43        56   \n",
      "\n",
      "     Saldo Gols  \n",
      "0             8  \n",
      "1            19  \n",
      "2           -18  \n",
      "3             6  \n",
      "4            12  \n",
      "..          ...  \n",
      "195         -19  \n",
      "196          -8  \n",
      "197           4  \n",
      "198          17  \n",
      "199          13  \n",
      "\n",
      "[200 rows x 13 columns]]\n"
     ]
    }
   ],
   "source": [
    "\n",
    "for n in dfBrasileirao:\n",
    "    print(n)\n",
    "dfBrasileirao\n",
    "menosGolsCadaCampeonato = [dfBrasileirao\n",
    "                            # listaBrasileirao.where(listaBrasileirao['Ano'] == 2013  and listaBrasileirao['Gols Pro'].min()),\n",
    "                            # listaBrasileirao.where(listaBrasileirao['Ano'] == 2014  and listaBrasileirao['Gols Pro'].min()),\n",
    "                            # listaBrasileirao.where(listaBrasileirao['Ano'] == 2015 and listaBrasileirao['Gols Pro'].min()),\n",
    "                            # listaBrasileirao.where(listaBrasileirao['Ano'] == 2016  and listaBrasileirao['Gols Pro'].min()),\n",
    "                            # listaBrasileirao.where(listaBrasileirao['Ano'] == 2017 and listaBrasileirao['Gols Pro'].min()),\n",
    "                            # listaBrasileirao.where(listaBrasileirao['Ano'] == 2018 and listaBrasileirao['Gols Pro'].min()),\n",
    "                            # listaBrasileirao.where(listaBrasileirao['Ano'] == 2019 and listaBrasileirao['Gols Pro'].min()),\n",
    "                            # listaBrasileirao.where(listaBrasileirao['Ano'] == 2020 and listaBrasileirao['Gols Pro'].min()),\n",
    "                            # listaBrasileirao.where(listaBrasileirao['Ano'] == 2021 and listaBrasileirao['Gols Pro'].min())\n",
    "                            ]\n",
    "\n",
    "print(menosGolsCadaCampeonato)\n",
    "\n",
    "##plt.hist(x = menosGolsCadaCampeonato['Ano'])"
   ]
  },
  {
   "cell_type": "code",
   "execution_count": null,
   "metadata": {},
   "outputs": [],
   "source": []
  },
  {
   "cell_type": "markdown",
   "metadata": {},
   "source": [
    "# Analise Futura\n",
    "Posteirormente, as proximas perguntas que iremos responder serão as seguites:\n",
    "1. O time que vence o campeonato é o time que mais faz pontos no primeiro ciclo de jogos?\n",
    "2. O time que mais chuta é o time que mais faz gol?\n",
    "3. Os 3 primeiros artilheiros do campeonato, refletem no time ficar nas zonas excelentes ou ótimas?\n",
    "4. Os times que fazem mais gols em um jogo, ficam em qual zona da tabela?\n",
    "5. Os times que tomam mais gols em um jogo, ficam em qual zona da tabela?\n",
    "6. O time com mais média de posse de bola, fica em qual zona da tabela?\n",
    "7. Existe um esquema tatico mais vencedor no campeonato?\n",
    "8. O time que vence o campeonato, vence mais que os outros dentro e fora de casa?"
   ]
  }
 ],
 "metadata": {
  "kernelspec": {
   "display_name": "Python 3.9.7 ('base')",
   "language": "python",
   "name": "python3"
  },
  "language_info": {
   "codemirror_mode": {
    "name": "ipython",
    "version": 3
   },
   "file_extension": ".py",
   "mimetype": "text/x-python",
   "name": "python",
   "nbconvert_exporter": "python",
   "pygments_lexer": "ipython3",
   "version": "3.9.7"
  },
  "orig_nbformat": 4,
  "vscode": {
   "interpreter": {
    "hash": "fee5dbd3fa984d9fdae4bd0d791792e20b768a7ef8c7a92832c018ed712b59f8"
   }
  }
 },
 "nbformat": 4,
 "nbformat_minor": 2
}
