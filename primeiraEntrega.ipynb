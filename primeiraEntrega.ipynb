{
 "cells": [
  {
   "cell_type": "markdown",
   "metadata": {},
   "source": [
    "### Importando \n",
    "Todos os dados que obtivemos nesse primeiro momento se encontram dentro de um banco de dados AirTable. Para utilizar em nossa analise vamos baixa-lo e armazena-lo localmente como um .json"
   ]
  },
  {
   "cell_type": "markdown",
   "metadata": {},
   "source": [
    "Utilizamos uma variavel de ambiente que é uma chave para conectar com o airtable. Vá na sua conta do airtable 'Account'.\n",
    "Na area API pegue sua API Key. Então no seu repo crie um arquivo .env e coloque da seguinte forma:\n",
    "export AIRTABLE_API_KEY=API_KEY\n",
    "Sendo no campo API_KEY sua key."
   ]
  },
  {
   "cell_type": "code",
   "execution_count": 101,
   "metadata": {},
   "outputs": [],
   "source": [
    "from dotenv import dotenv_values \n",
    "config = dotenv_values(\".env\")\n",
    "api_key = config['AIRTABLE_API_KEY']"
   ]
  },
  {
   "cell_type": "markdown",
   "metadata": {},
   "source": [
    "https://airtable.com/appgUg041aeWfcxGc/tblUpku2OvK6Y6FGb/viwSwDZRjL2gi2qiJ?blocks=hide"
   ]
  },
  {
   "cell_type": "code",
   "execution_count": 102,
   "metadata": {},
   "outputs": [],
   "source": [
    "from pyairtable import Table\n",
    "table = Table(api_key, 'appgUg041aeWfcxGc', 'tblUpku2OvK6Y6FGb')"
   ]
  },
  {
   "cell_type": "code",
   "execution_count": 103,
   "metadata": {},
   "outputs": [
    {
     "name": "stdout",
     "output_type": "stream",
     "text": [
      "None\n"
     ]
    }
   ],
   "source": [
    "import json\n",
    "listDict = table.all()\n",
    "listaBrasileirao = []\n",
    "for i in listDict:\n",
    "    listaBrasileirao.append(i['fields'])\n",
    "\n",
    "with open('dataset/listaBrasileirao.json', 'w') as json_file:\n",
    "    jsonStr = json.dump(listaBrasileirao, json_file, ensure_ascii=False)\n",
    "    print(jsonStr)\n"
   ]
  },
  {
   "cell_type": "markdown",
   "metadata": {},
   "source": [
    "# Analise de dados"
   ]
  },
  {
   "cell_type": "markdown",
   "metadata": {},
   "source": [
    "Nesse notebook nos buscamos tratar de responder e explorar as seguintes perguntas\n",
    "\n",
    "1. O time que é campeão vence mais da metade dos jogos? - RESPONDIDO\n",
    "2. Qual média de vitorias dos times que vencem o campeonato? - RESPONDIDO\n",
    "4. E os times que fazem menos gols são os que caem? - RESPONDIDO\n",
    "5. Qual média de derrotas dos times que foram rebaixados? - RESPONDIDO\n",
    "7. Os times que vencem os campeonatos são os times que fazem mais gols? \n",
    "\n",
    "1. Os time que tomam menos gols, ficam em qual zona na tabela?\n",
    "2. Os times que fazem mais gols, ficam em qual zona na tabela?\n",
    "3. Os times com mais empates, ficam em qual zona na tabela?\n",
    "4. Os times que tomam mais gols, ficam em qual zona na tabela?\n",
    "8. O time com melhor saldo de gols, fica em qual zona da tabela?"
   ]
  },
  {
   "cell_type": "code",
   "execution_count": 104,
   "metadata": {},
   "outputs": [
    {
     "data": {
      "text/html": [
       "<div>\n",
       "<style scoped>\n",
       "    .dataframe tbody tr th:only-of-type {\n",
       "        vertical-align: middle;\n",
       "    }\n",
       "\n",
       "    .dataframe tbody tr th {\n",
       "        vertical-align: top;\n",
       "    }\n",
       "\n",
       "    .dataframe thead th {\n",
       "        text-align: right;\n",
       "    }\n",
       "</style>\n",
       "<table border=\"1\" class=\"dataframe\">\n",
       "  <thead>\n",
       "    <tr style=\"text-align: right;\">\n",
       "      <th></th>\n",
       "      <th>Posicao</th>\n",
       "      <th>Jogos</th>\n",
       "      <th>Empates</th>\n",
       "      <th>Derrotas</th>\n",
       "      <th>Vitorias</th>\n",
       "      <th>Ano</th>\n",
       "      <th>Pontos</th>\n",
       "      <th>Cartao Vermelho</th>\n",
       "      <th>Cartao Amarelo</th>\n",
       "      <th>Time</th>\n",
       "      <th>Gols Contra</th>\n",
       "      <th>Gols Pro</th>\n",
       "      <th>Saldo Gols</th>\n",
       "    </tr>\n",
       "  </thead>\n",
       "  <tbody>\n",
       "    <tr>\n",
       "      <th>0</th>\n",
       "      <td>10</td>\n",
       "      <td>38</td>\n",
       "      <td>10</td>\n",
       "      <td>14</td>\n",
       "      <td>14</td>\n",
       "      <td>2016</td>\n",
       "      <td>52</td>\n",
       "      <td>5</td>\n",
       "      <td>87</td>\n",
       "      <td>SãoPaulo</td>\n",
       "      <td>36</td>\n",
       "      <td>44</td>\n",
       "      <td>8</td>\n",
       "    </tr>\n",
       "    <tr>\n",
       "      <th>1</th>\n",
       "      <td>3</td>\n",
       "      <td>38</td>\n",
       "      <td>8</td>\n",
       "      <td>10</td>\n",
       "      <td>20</td>\n",
       "      <td>2020</td>\n",
       "      <td>68</td>\n",
       "      <td>6</td>\n",
       "      <td>72</td>\n",
       "      <td>Atlético</td>\n",
       "      <td>45</td>\n",
       "      <td>64</td>\n",
       "      <td>19</td>\n",
       "    </tr>\n",
       "    <tr>\n",
       "      <th>2</th>\n",
       "      <td>10</td>\n",
       "      <td>38</td>\n",
       "      <td>7</td>\n",
       "      <td>16</td>\n",
       "      <td>15</td>\n",
       "      <td>2019</td>\n",
       "      <td>52</td>\n",
       "      <td>7</td>\n",
       "      <td>86</td>\n",
       "      <td>Goiás</td>\n",
       "      <td>64</td>\n",
       "      <td>46</td>\n",
       "      <td>-18</td>\n",
       "    </tr>\n",
       "    <tr>\n",
       "      <th>3</th>\n",
       "      <td>4</td>\n",
       "      <td>38</td>\n",
       "      <td>8</td>\n",
       "      <td>12</td>\n",
       "      <td>18</td>\n",
       "      <td>2015</td>\n",
       "      <td>62</td>\n",
       "      <td>5</td>\n",
       "      <td>73</td>\n",
       "      <td>SãoPaulo</td>\n",
       "      <td>47</td>\n",
       "      <td>53</td>\n",
       "      <td>6</td>\n",
       "    </tr>\n",
       "    <tr>\n",
       "      <th>4</th>\n",
       "      <td>3</td>\n",
       "      <td>38</td>\n",
       "      <td>6</td>\n",
       "      <td>11</td>\n",
       "      <td>21</td>\n",
       "      <td>2014</td>\n",
       "      <td>69</td>\n",
       "      <td>6</td>\n",
       "      <td>92</td>\n",
       "      <td>Internacional</td>\n",
       "      <td>41</td>\n",
       "      <td>53</td>\n",
       "      <td>12</td>\n",
       "    </tr>\n",
       "  </tbody>\n",
       "</table>\n",
       "</div>"
      ],
      "text/plain": [
       "   Posicao  Jogos  Empates  Derrotas  Vitorias   Ano  Pontos  Cartao Vermelho  \\\n",
       "0       10     38       10        14        14  2016      52                5   \n",
       "1        3     38        8        10        20  2020      68                6   \n",
       "2       10     38        7        16        15  2019      52                7   \n",
       "3        4     38        8        12        18  2015      62                5   \n",
       "4        3     38        6        11        21  2014      69                6   \n",
       "\n",
       "   Cartao Amarelo           Time  Gols Contra  Gols Pro  Saldo Gols  \n",
       "0              87       SãoPaulo           36        44           8  \n",
       "1              72       Atlético           45        64          19  \n",
       "2              86          Goiás           64        46         -18  \n",
       "3              73       SãoPaulo           47        53           6  \n",
       "4              92  Internacional           41        53          12  "
      ]
     },
     "execution_count": 104,
     "metadata": {},
     "output_type": "execute_result"
    }
   ],
   "source": [
    "import pandas as pd\n",
    "import numpy as np\n",
    "import seaborn as sns\n",
    "import matplotlib.pyplot as plt\n",
    "import plotly.express as px\n",
    "\n",
    "dfBrasileirao = pd.read_json('dataset/listaBrasileirao.json')\n",
    "dfBrasileirao.head()"
   ]
  },
  {
   "cell_type": "markdown",
   "metadata": {},
   "source": [
    "### Pre Analise"
   ]
  },
  {
   "cell_type": "code",
   "execution_count": 105,
   "metadata": {},
   "outputs": [
    {
     "name": "stdout",
     "output_type": "stream",
     "text": [
      "<class 'pandas.core.frame.DataFrame'>\n",
      "RangeIndex: 200 entries, 0 to 199\n",
      "Data columns (total 13 columns):\n",
      " #   Column           Non-Null Count  Dtype \n",
      "---  ------           --------------  ----- \n",
      " 0   Posicao          200 non-null    int64 \n",
      " 1   Jogos            200 non-null    int64 \n",
      " 2   Empates          200 non-null    int64 \n",
      " 3   Derrotas         200 non-null    int64 \n",
      " 4   Vitorias         200 non-null    int64 \n",
      " 5   Ano              200 non-null    int64 \n",
      " 6   Pontos           200 non-null    int64 \n",
      " 7   Cartao Vermelho  200 non-null    int64 \n",
      " 8   Cartao Amarelo   200 non-null    int64 \n",
      " 9   Time             200 non-null    object\n",
      " 10  Gols Contra      200 non-null    int64 \n",
      " 11  Gols Pro         200 non-null    int64 \n",
      " 12  Saldo Gols       200 non-null    int64 \n",
      "dtypes: int64(12), object(1)\n",
      "memory usage: 20.4+ KB\n"
     ]
    }
   ],
   "source": [
    "dfBrasileirao.info()"
   ]
  },
  {
   "cell_type": "code",
   "execution_count": 106,
   "metadata": {},
   "outputs": [
    {
     "data": {
      "text/html": [
       "<div>\n",
       "<style scoped>\n",
       "    .dataframe tbody tr th:only-of-type {\n",
       "        vertical-align: middle;\n",
       "    }\n",
       "\n",
       "    .dataframe tbody tr th {\n",
       "        vertical-align: top;\n",
       "    }\n",
       "\n",
       "    .dataframe thead th {\n",
       "        text-align: right;\n",
       "    }\n",
       "</style>\n",
       "<table border=\"1\" class=\"dataframe\">\n",
       "  <thead>\n",
       "    <tr style=\"text-align: right;\">\n",
       "      <th></th>\n",
       "      <th>Posicao</th>\n",
       "      <th>Jogos</th>\n",
       "      <th>Empates</th>\n",
       "      <th>Derrotas</th>\n",
       "      <th>Vitorias</th>\n",
       "      <th>Ano</th>\n",
       "      <th>Pontos</th>\n",
       "      <th>Cartao Vermelho</th>\n",
       "      <th>Cartao Amarelo</th>\n",
       "      <th>Gols Contra</th>\n",
       "      <th>Gols Pro</th>\n",
       "      <th>Saldo Gols</th>\n",
       "    </tr>\n",
       "  </thead>\n",
       "  <tbody>\n",
       "    <tr>\n",
       "      <th>count</th>\n",
       "      <td>200.000000</td>\n",
       "      <td>200.0</td>\n",
       "      <td>200.000000</td>\n",
       "      <td>200.00000</td>\n",
       "      <td>200.000000</td>\n",
       "      <td>200.000000</td>\n",
       "      <td>200.00000</td>\n",
       "      <td>200.000000</td>\n",
       "      <td>200.000000</td>\n",
       "      <td>200.000000</td>\n",
       "      <td>200.000000</td>\n",
       "      <td>200.00000</td>\n",
       "    </tr>\n",
       "    <tr>\n",
       "      <th>mean</th>\n",
       "      <td>10.500000</td>\n",
       "      <td>38.0</td>\n",
       "      <td>10.220000</td>\n",
       "      <td>13.89500</td>\n",
       "      <td>13.885000</td>\n",
       "      <td>2016.500000</td>\n",
       "      <td>51.82000</td>\n",
       "      <td>5.195000</td>\n",
       "      <td>87.890000</td>\n",
       "      <td>44.810000</td>\n",
       "      <td>44.780000</td>\n",
       "      <td>-0.03000</td>\n",
       "    </tr>\n",
       "    <tr>\n",
       "      <th>std</th>\n",
       "      <td>5.780751</td>\n",
       "      <td>0.0</td>\n",
       "      <td>2.550318</td>\n",
       "      <td>4.41491</td>\n",
       "      <td>4.380378</td>\n",
       "      <td>2.879489</td>\n",
       "      <td>12.70293</td>\n",
       "      <td>2.709925</td>\n",
       "      <td>12.195143</td>\n",
       "      <td>9.400839</td>\n",
       "      <td>11.277745</td>\n",
       "      <td>16.81436</td>\n",
       "    </tr>\n",
       "    <tr>\n",
       "      <th>min</th>\n",
       "      <td>1.000000</td>\n",
       "      <td>38.0</td>\n",
       "      <td>4.000000</td>\n",
       "      <td>4.00000</td>\n",
       "      <td>1.000000</td>\n",
       "      <td>2012.000000</td>\n",
       "      <td>15.00000</td>\n",
       "      <td>0.000000</td>\n",
       "      <td>61.000000</td>\n",
       "      <td>22.000000</td>\n",
       "      <td>18.000000</td>\n",
       "      <td>-57.00000</td>\n",
       "    </tr>\n",
       "    <tr>\n",
       "      <th>25%</th>\n",
       "      <td>5.750000</td>\n",
       "      <td>38.0</td>\n",
       "      <td>8.000000</td>\n",
       "      <td>11.00000</td>\n",
       "      <td>11.000000</td>\n",
       "      <td>2014.000000</td>\n",
       "      <td>44.00000</td>\n",
       "      <td>3.000000</td>\n",
       "      <td>80.750000</td>\n",
       "      <td>38.000000</td>\n",
       "      <td>37.000000</td>\n",
       "      <td>-9.25000</td>\n",
       "    </tr>\n",
       "    <tr>\n",
       "      <th>50%</th>\n",
       "      <td>10.500000</td>\n",
       "      <td>38.0</td>\n",
       "      <td>10.000000</td>\n",
       "      <td>14.00000</td>\n",
       "      <td>13.000000</td>\n",
       "      <td>2016.500000</td>\n",
       "      <td>51.00000</td>\n",
       "      <td>5.000000</td>\n",
       "      <td>87.000000</td>\n",
       "      <td>44.000000</td>\n",
       "      <td>44.000000</td>\n",
       "      <td>-1.00000</td>\n",
       "    </tr>\n",
       "    <tr>\n",
       "      <th>75%</th>\n",
       "      <td>15.250000</td>\n",
       "      <td>38.0</td>\n",
       "      <td>12.000000</td>\n",
       "      <td>17.00000</td>\n",
       "      <td>16.250000</td>\n",
       "      <td>2019.000000</td>\n",
       "      <td>59.00000</td>\n",
       "      <td>7.000000</td>\n",
       "      <td>95.000000</td>\n",
       "      <td>50.250000</td>\n",
       "      <td>51.000000</td>\n",
       "      <td>11.00000</td>\n",
       "    </tr>\n",
       "    <tr>\n",
       "      <th>max</th>\n",
       "      <td>20.000000</td>\n",
       "      <td>38.0</td>\n",
       "      <td>17.000000</td>\n",
       "      <td>28.00000</td>\n",
       "      <td>28.000000</td>\n",
       "      <td>2021.000000</td>\n",
       "      <td>90.00000</td>\n",
       "      <td>14.000000</td>\n",
       "      <td>121.000000</td>\n",
       "      <td>79.000000</td>\n",
       "      <td>86.000000</td>\n",
       "      <td>49.00000</td>\n",
       "    </tr>\n",
       "  </tbody>\n",
       "</table>\n",
       "</div>"
      ],
      "text/plain": [
       "          Posicao  Jogos     Empates   Derrotas    Vitorias          Ano  \\\n",
       "count  200.000000  200.0  200.000000  200.00000  200.000000   200.000000   \n",
       "mean    10.500000   38.0   10.220000   13.89500   13.885000  2016.500000   \n",
       "std      5.780751    0.0    2.550318    4.41491    4.380378     2.879489   \n",
       "min      1.000000   38.0    4.000000    4.00000    1.000000  2012.000000   \n",
       "25%      5.750000   38.0    8.000000   11.00000   11.000000  2014.000000   \n",
       "50%     10.500000   38.0   10.000000   14.00000   13.000000  2016.500000   \n",
       "75%     15.250000   38.0   12.000000   17.00000   16.250000  2019.000000   \n",
       "max     20.000000   38.0   17.000000   28.00000   28.000000  2021.000000   \n",
       "\n",
       "          Pontos  Cartao Vermelho  Cartao Amarelo  Gols Contra    Gols Pro  \\\n",
       "count  200.00000       200.000000      200.000000   200.000000  200.000000   \n",
       "mean    51.82000         5.195000       87.890000    44.810000   44.780000   \n",
       "std     12.70293         2.709925       12.195143     9.400839   11.277745   \n",
       "min     15.00000         0.000000       61.000000    22.000000   18.000000   \n",
       "25%     44.00000         3.000000       80.750000    38.000000   37.000000   \n",
       "50%     51.00000         5.000000       87.000000    44.000000   44.000000   \n",
       "75%     59.00000         7.000000       95.000000    50.250000   51.000000   \n",
       "max     90.00000        14.000000      121.000000    79.000000   86.000000   \n",
       "\n",
       "       Saldo Gols  \n",
       "count   200.00000  \n",
       "mean     -0.03000  \n",
       "std      16.81436  \n",
       "min     -57.00000  \n",
       "25%      -9.25000  \n",
       "50%      -1.00000  \n",
       "75%      11.00000  \n",
       "max      49.00000  "
      ]
     },
     "execution_count": 106,
     "metadata": {},
     "output_type": "execute_result"
    }
   ],
   "source": [
    "dfBrasileirao.describe()"
   ]
  },
  {
   "cell_type": "markdown",
   "metadata": {},
   "source": [
    "### 1. O time que é campeão vence mais da metade dos jogos?"
   ]
  },
  {
   "cell_type": "code",
   "execution_count": 107,
   "metadata": {},
   "outputs": [
    {
     "data": {
      "image/png": "[encoded data removed]",
      "text/plain": [
       "<Figure size 432x288 with 1 Axes>"
      ]
     },
     "metadata": {
      "needs_background": "light"
     },
     "output_type": "display_data"
    }
   ],
   "source": [
    "sns.scatterplot(x = 'Ano', y = dfBrasileirao['Vitorias'].where(dfBrasileirao['Posicao'] == 1) ,data=dfBrasileirao)\n",
    "plt.show()\n"
   ]
  },
  {
   "cell_type": "code",
   "execution_count": 108,
   "metadata": {},
   "outputs": [
    {
     "name": "stderr",
     "output_type": "stream",
     "text": [
      "/Users/alexandrebomfim/opt/anaconda3/lib/python3.9/site-packages/seaborn/_decorators.py:36: FutureWarning:\n",
      "\n",
      "Pass the following variable as a keyword arg: x. From version 0.12, the only valid positional argument will be `data`, and passing other arguments without an explicit keyword will result in an error or misinterpretation.\n",
      "\n"
     ]
    },
    {
     "data": {
      "image/png": "[encoded data removed]",
      "text/plain": [
       "<Figure size 432x288 with 1 Axes>"
      ]
     },
     "metadata": {
      "needs_background": "light"
     },
     "output_type": "display_data"
    }
   ],
   "source": [
    "sns.countplot(dfBrasileirao['Posicao'].where(dfBrasileirao['Vitorias'] > 19));"
   ]
  },
  {
   "cell_type": "markdown",
   "metadata": {},
   "source": [
    "#### Os quatro primeiros times vencem mais da metade dos jogos?"
   ]
  },
  {
   "cell_type": "code",
   "execution_count": 109,
   "metadata": {},
   "outputs": [
    {
     "data": {
      "image/png": "[encoded data removed]",
      "text/plain": [
       "<Figure size 432x288 with 1 Axes>"
      ]
     },
     "metadata": {
      "needs_background": "light"
     },
     "output_type": "display_data"
    }
   ],
   "source": [
    "sns.stripplot(x='Ano',y = dfBrasileirao['Vitorias'].where(dfBrasileirao['Vitorias'] > 19), data=dfBrasileirao)\n",
    "plt.show()"
   ]
  },
  {
   "cell_type": "markdown",
   "metadata": {},
   "source": [
    "### 2. Qual média de vitorias dos times que vencem o campeonato?"
   ]
  },
  {
   "cell_type": "code",
   "execution_count": 110,
   "metadata": {},
   "outputs": [
    {
     "ename": "TypeError",
     "evalue": "list indices must be integers or slices, not str",
     "output_type": "error",
     "traceback": [
      "\u001b[0;31m---------------------------------------------------------------------------\u001b[0m",
      "\u001b[0;31mTypeError\u001b[0m                                 Traceback (most recent call last)",
      "\u001b[0;32m/var/folders/4j/2jjlcyhj3p7dtrsjrk39n_4h0000gn/T/ipykernel_98060/1208931884.py\u001b[0m in \u001b[0;36m<module>\u001b[0;34m\u001b[0m\n\u001b[0;32m----> 1\u001b[0;31m \u001b[0mlistaBrasileirao\u001b[0m\u001b[0;34m[\u001b[0m\u001b[0;34m'Vitorias'\u001b[0m\u001b[0;34m]\u001b[0m\u001b[0;34m.\u001b[0m\u001b[0mwhere\u001b[0m\u001b[0;34m(\u001b[0m\u001b[0mlistaBrasileirao\u001b[0m\u001b[0;34m[\u001b[0m\u001b[0;34m'Posicao'\u001b[0m\u001b[0;34m]\u001b[0m \u001b[0;34m==\u001b[0m \u001b[0;36m1\u001b[0m\u001b[0;34m)\u001b[0m\u001b[0;34m.\u001b[0m\u001b[0mmean\u001b[0m\u001b[0;34m(\u001b[0m\u001b[0;34m)\u001b[0m\u001b[0;34m\u001b[0m\u001b[0;34m\u001b[0m\u001b[0m\n\u001b[0m",
      "\u001b[0;31mTypeError\u001b[0m: list indices must be integers or slices, not str"
     ]
    }
   ],
   "source": [
    "listaBrasileirao['Vitorias'].where(listaBrasileirao['Posicao'] == 1).mean()"
   ]
  },
  {
   "cell_type": "markdown",
   "metadata": {},
   "source": [
    "### 3. E os times que fazem menos gols são os que caem?"
   ]
  },
  {
   "cell_type": "markdown",
   "metadata": {},
   "source": [
    "#### Menos gols em todos os anos"
   ]
  },
  {
   "cell_type": "code",
   "execution_count": null,
   "metadata": {},
   "outputs": [
    {
     "data": {
      "text/html": [
       "<div>\n",
       "<style scoped>\n",
       "    .dataframe tbody tr th:only-of-type {\n",
       "        vertical-align: middle;\n",
       "    }\n",
       "\n",
       "    .dataframe tbody tr th {\n",
       "        vertical-align: top;\n",
       "    }\n",
       "\n",
       "    .dataframe thead th {\n",
       "        text-align: right;\n",
       "    }\n",
       "</style>\n",
       "<table border=\"1\" class=\"dataframe\">\n",
       "  <thead>\n",
       "    <tr style=\"text-align: right;\">\n",
       "      <th></th>\n",
       "      <th>Posicao</th>\n",
       "      <th>Jogos</th>\n",
       "      <th>Empates</th>\n",
       "      <th>Derrotas</th>\n",
       "      <th>Vitorias</th>\n",
       "      <th>Ano</th>\n",
       "      <th>Pontos</th>\n",
       "      <th>Cartao Vermelho</th>\n",
       "      <th>Cartao Amarelo</th>\n",
       "      <th>Time</th>\n",
       "      <th>Gols Contra</th>\n",
       "      <th>Gols Pro</th>\n",
       "      <th>Saldo Gols</th>\n",
       "    </tr>\n",
       "  </thead>\n",
       "  <tbody>\n",
       "    <tr>\n",
       "      <th>20</th>\n",
       "      <td>20</td>\n",
       "      <td>38</td>\n",
       "      <td>11</td>\n",
       "      <td>23</td>\n",
       "      <td>4</td>\n",
       "      <td>2018</td>\n",
       "      <td>23</td>\n",
       "      <td>9</td>\n",
       "      <td>98</td>\n",
       "      <td>Paraná</td>\n",
       "      <td>57</td>\n",
       "      <td>18</td>\n",
       "      <td>-39</td>\n",
       "    </tr>\n",
       "    <tr>\n",
       "      <th>85</th>\n",
       "      <td>20</td>\n",
       "      <td>38</td>\n",
       "      <td>11</td>\n",
       "      <td>24</td>\n",
       "      <td>3</td>\n",
       "      <td>2019</td>\n",
       "      <td>20</td>\n",
       "      <td>10</td>\n",
       "      <td>79</td>\n",
       "      <td>Avaí</td>\n",
       "      <td>62</td>\n",
       "      <td>18</td>\n",
       "      <td>-44</td>\n",
       "    </tr>\n",
       "  </tbody>\n",
       "</table>\n",
       "</div>"
      ],
      "text/plain": [
       "    Posicao  Jogos  Empates  Derrotas  Vitorias   Ano  Pontos  \\\n",
       "20       20     38       11        23         4  2018      23   \n",
       "85       20     38       11        24         3  2019      20   \n",
       "\n",
       "    Cartao Vermelho  Cartao Amarelo    Time  Gols Contra  Gols Pro  Saldo Gols  \n",
       "20                9              98  Paraná           57        18         -39  \n",
       "85               10              79    Avaí           62        18         -44  "
      ]
     },
     "execution_count": 30,
     "metadata": {},
     "output_type": "execute_result"
    }
   ],
   "source": [
    "dfBrasileirao[dfBrasileirao['Gols Pro']==dfBrasileirao['Gols Pro'].min()]"
   ]
  },
  {
   "cell_type": "markdown",
   "metadata": {},
   "source": [
    "#### Menos gols por ano"
   ]
  },
  {
   "cell_type": "code",
   "execution_count": null,
   "metadata": {},
   "outputs": [
    {
     "data": {
      "text/html": [
       "<div>\n",
       "<style scoped>\n",
       "    .dataframe tbody tr th:only-of-type {\n",
       "        vertical-align: middle;\n",
       "    }\n",
       "\n",
       "    .dataframe tbody tr th {\n",
       "        vertical-align: top;\n",
       "    }\n",
       "\n",
       "    .dataframe thead th {\n",
       "        text-align: right;\n",
       "    }\n",
       "</style>\n",
       "<table border=\"1\" class=\"dataframe\">\n",
       "  <thead>\n",
       "    <tr style=\"text-align: right;\">\n",
       "      <th></th>\n",
       "      <th>Posicao</th>\n",
       "      <th>Jogos</th>\n",
       "      <th>Empates</th>\n",
       "      <th>Derrotas</th>\n",
       "      <th>Vitorias</th>\n",
       "      <th>Ano</th>\n",
       "      <th>Pontos</th>\n",
       "      <th>Cartao Vermelho</th>\n",
       "      <th>Cartao Amarelo</th>\n",
       "      <th>Time</th>\n",
       "      <th>Gols Contra</th>\n",
       "      <th>Gols Pro</th>\n",
       "      <th>Saldo Gols</th>\n",
       "    </tr>\n",
       "  </thead>\n",
       "  <tbody>\n",
       "    <tr>\n",
       "      <th>60</th>\n",
       "      <td>19</td>\n",
       "      <td>38</td>\n",
       "      <td>9</td>\n",
       "      <td>22</td>\n",
       "      <td>7</td>\n",
       "      <td>2012</td>\n",
       "      <td>30</td>\n",
       "      <td>6</td>\n",
       "      <td>102</td>\n",
       "      <td>Atlético</td>\n",
       "      <td>67</td>\n",
       "      <td>37</td>\n",
       "      <td>-30</td>\n",
       "    </tr>\n",
       "    <tr>\n",
       "      <th>143</th>\n",
       "      <td>15</td>\n",
       "      <td>38</td>\n",
       "      <td>14</td>\n",
       "      <td>13</td>\n",
       "      <td>11</td>\n",
       "      <td>2012</td>\n",
       "      <td>47</td>\n",
       "      <td>2</td>\n",
       "      <td>112</td>\n",
       "      <td>Bahia</td>\n",
       "      <td>41</td>\n",
       "      <td>37</td>\n",
       "      <td>-4</td>\n",
       "    </tr>\n",
       "    <tr>\n",
       "      <th>173</th>\n",
       "      <td>14</td>\n",
       "      <td>38</td>\n",
       "      <td>12</td>\n",
       "      <td>14</td>\n",
       "      <td>12</td>\n",
       "      <td>2012</td>\n",
       "      <td>48</td>\n",
       "      <td>2</td>\n",
       "      <td>94</td>\n",
       "      <td>PontePreta</td>\n",
       "      <td>44</td>\n",
       "      <td>37</td>\n",
       "      <td>-7</td>\n",
       "    </tr>\n",
       "    <tr>\n",
       "      <th>68</th>\n",
       "      <td>20</td>\n",
       "      <td>38</td>\n",
       "      <td>5</td>\n",
       "      <td>28</td>\n",
       "      <td>5</td>\n",
       "      <td>2013</td>\n",
       "      <td>20</td>\n",
       "      <td>3</td>\n",
       "      <td>77</td>\n",
       "      <td>Náutico</td>\n",
       "      <td>79</td>\n",
       "      <td>22</td>\n",
       "      <td>-57</td>\n",
       "    </tr>\n",
       "    <tr>\n",
       "      <th>31</th>\n",
       "      <td>20</td>\n",
       "      <td>38</td>\n",
       "      <td>11</td>\n",
       "      <td>20</td>\n",
       "      <td>7</td>\n",
       "      <td>2014</td>\n",
       "      <td>32</td>\n",
       "      <td>5</td>\n",
       "      <td>114</td>\n",
       "      <td>Criciuma</td>\n",
       "      <td>56</td>\n",
       "      <td>28</td>\n",
       "      <td>-28</td>\n",
       "    </tr>\n",
       "  </tbody>\n",
       "</table>\n",
       "</div>"
      ],
      "text/plain": [
       "     Posicao  Jogos  Empates  Derrotas  Vitorias   Ano  Pontos  \\\n",
       "60        19     38        9        22         7  2012      30   \n",
       "143       15     38       14        13        11  2012      47   \n",
       "173       14     38       12        14        12  2012      48   \n",
       "68        20     38        5        28         5  2013      20   \n",
       "31        20     38       11        20         7  2014      32   \n",
       "\n",
       "     Cartao Vermelho  Cartao Amarelo        Time  Gols Contra  Gols Pro  \\\n",
       "60                 6             102    Atlético           67        37   \n",
       "143                2             112       Bahia           41        37   \n",
       "173                2              94  PontePreta           44        37   \n",
       "68                 3              77     Náutico           79        22   \n",
       "31                 5             114    Criciuma           56        28   \n",
       "\n",
       "     Saldo Gols  \n",
       "60          -30  \n",
       "143          -4  \n",
       "173          -7  \n",
       "68          -57  \n",
       "31          -28  "
      ]
     },
     "execution_count": 54,
     "metadata": {},
     "output_type": "execute_result"
    }
   ],
   "source": [
    "\n",
    "ltDfBr = []\n",
    "\n",
    "for i in range(2012, 2022):\n",
    "    filtro = dfBrasileirao['Ano'] == i\n",
    "    ltDfBr.append(dfBrasileirao[filtro])\n",
    "\n",
    "j = 0\n",
    "menosGols = 0\n",
    "for i in ltDfBr:\n",
    "    filtro = i[ i['Gols Pro'] == i['Gols Pro'].min()]\n",
    "    if j == 0:\n",
    "        menosGols = filtro\n",
    "    else:\n",
    "        menosGols = menosGols.append(filtro)\n",
    "    j+=1\n",
    "\n",
    "menosGols.head()\n"
   ]
  },
  {
   "cell_type": "code",
   "execution_count": null,
   "metadata": {},
   "outputs": [
    {
     "data": {
      "image/png": "[encoded data removed]",
      "text/plain": [
       "<Figure size 432x288 with 1 Axes>"
      ]
     },
     "metadata": {
      "needs_background": "light"
     },
     "output_type": "display_data"
    }
   ],
   "source": [
    "sns.stripplot(x = 'Posicao', y = menosGols['Gols Pro'] ,data=menosGols)\n",
    "plt.show()"
   ]
  },
  {
   "cell_type": "code",
   "execution_count": null,
   "metadata": {},
   "outputs": [
    {
     "data": {
      "image/png": "[encoded data removed]",
      "text/plain": [
       "<Figure size 432x288 with 1 Axes>"
      ]
     },
     "metadata": {
      "needs_background": "light"
     },
     "output_type": "display_data"
    }
   ],
   "source": [
    "sns.stripplot(x = 'Ano', y = menosGols['Gols Pro'] ,data=menosGols)\n",
    "plt.show()"
   ]
  },
  {
   "cell_type": "code",
   "execution_count": null,
   "metadata": {},
   "outputs": [
    {
     "data": {
      "application/vnd.plotly.v1+json": {
       "config": {
        "plotlyServerURL": "https://plot.ly"
       },
       "data": [
        {
         "dimensions": [
          {
           "axis": {
            "matches": true
           },
           "label": "Posicao",
           "values": [
            19,
            15,
            14,
            20,
            20,
            20,
            20,
            18,
            20,
            20,
            15,
            19,
            19
           ]
          },
          {
           "axis": {
            "matches": true
           },
           "label": "Gols Pro",
           "values": [
            37,
            37,
            37,
            22,
            28,
            26,
            23,
            29,
            18,
            18,
            31,
            31,
            24
           ]
          },
          {
           "axis": {
            "matches": true
           },
           "label": "Ano",
           "values": [
            2012,
            2012,
            2012,
            2013,
            2014,
            2015,
            2016,
            2017,
            2018,
            2019,
            2020,
            2020,
            2021
           ]
          }
         ],
         "hovertemplate": "%{xaxis.title.text}=%{x}<br>%{yaxis.title.text}=%{y}<extra></extra>",
         "legendgroup": "",
         "marker": {
          "color": "#636efa",
          "symbol": "circle"
         },
         "name": "",
         "showlegend": false,
         "type": "splom"
        }
       ],
       "layout": {
        "dragmode": "select",
        "legend": {
         "tracegroupgap": 0
        },
        "margin": {
         "t": 60
        },
        "template": {
         "data": {
          "bar": [
           {
            "error_x": {
             "color": "#2a3f5f"
            },
            "error_y": {
             "color": "#2a3f5f"
            },
            "marker": {
             "line": {
              "color": "#E5ECF6",
              "width": 0.5
             },
             "pattern": {
              "fillmode": "overlay",
              "size": 10,
              "solidity": 0.2
             }
            },
            "type": "bar"
           }
          ],
          "barpolar": [
           {
            "marker": {
             "line": {
              "color": "#E5ECF6",
              "width": 0.5
             },
             "pattern": {
              "fillmode": "overlay",
              "size": 10,
              "solidity": 0.2
             }
            },
            "type": "barpolar"
           }
          ],
          "carpet": [
           {
            "aaxis": {
             "endlinecolor": "#2a3f5f",
             "gridcolor": "white",
             "linecolor": "white",
             "minorgridcolor": "white",
             "startlinecolor": "#2a3f5f"
            },
            "baxis": {
             "endlinecolor": "#2a3f5f",
             "gridcolor": "white",
             "linecolor": "white",
             "minorgridcolor": "white",
             "startlinecolor": "#2a3f5f"
            },
            "type": "carpet"
           }
          ],
          "choropleth": [
           {
            "colorbar": {
             "outlinewidth": 0,
             "ticks": ""
            },
            "type": "choropleth"
           }
          ],
          "contour": [
           {
            "colorbar": {
             "outlinewidth": 0,
             "ticks": ""
            },
            "colorscale": [
             [
              0,
              "#0d0887"
             ],
             [
              0.1111111111111111,
              "#46039f"
             ],
             [
              0.2222222222222222,
              "#7201a8"
             ],
             [
              0.3333333333333333,
              "#9c179e"
             ],
             [
              0.4444444444444444,
              "#bd3786"
             ],
             [
              0.5555555555555556,
              "#d8576b"
             ],
             [
              0.6666666666666666,
              "#ed7953"
             ],
             [
              0.7777777777777778,
              "#fb9f3a"
             ],
             [
              0.8888888888888888,
              "#fdca26"
             ],
             [
              1,
              "#f0f921"
             ]
            ],
            "type": "contour"
           }
          ],
          "contourcarpet": [
           {
            "colorbar": {
             "outlinewidth": 0,
             "ticks": ""
            },
            "type": "contourcarpet"
           }
          ],
          "heatmap": [
           {
            "colorbar": {
             "outlinewidth": 0,
             "ticks": ""
            },
            "colorscale": [
             [
              0,
              "#0d0887"
             ],
             [
              0.1111111111111111,
              "#46039f"
             ],
             [
              0.2222222222222222,
              "#7201a8"
             ],
             [
              0.3333333333333333,
              "#9c179e"
             ],
             [
              0.4444444444444444,
              "#bd3786"
             ],
             [
              0.5555555555555556,
              "#d8576b"
             ],
             [
              0.6666666666666666,
              "#ed7953"
             ],
             [
              0.7777777777777778,
              "#fb9f3a"
             ],
             [
              0.8888888888888888,
              "#fdca26"
             ],
             [
              1,
              "#f0f921"
             ]
            ],
            "type": "heatmap"
           }
          ],
          "heatmapgl": [
           {
            "colorbar": {
             "outlinewidth": 0,
             "ticks": ""
            },
            "colorscale": [
             [
              0,
              "#0d0887"
             ],
             [
              0.1111111111111111,
              "#46039f"
             ],
             [
              0.2222222222222222,
              "#7201a8"
             ],
             [
              0.3333333333333333,
              "#9c179e"
             ],
             [
              0.4444444444444444,
              "#bd3786"
             ],
             [
              0.5555555555555556,
              "#d8576b"
             ],
             [
              0.6666666666666666,
              "#ed7953"
             ],
             [
              0.7777777777777778,
              "#fb9f3a"
             ],
             [
              0.8888888888888888,
              "#fdca26"
             ],
             [
              1,
              "#f0f921"
             ]
            ],
            "type": "heatmapgl"
           }
          ],
          "histogram": [
           {
            "marker": {
             "pattern": {
              "fillmode": "overlay",
              "size": 10,
              "solidity": 0.2
             }
            },
            "type": "histogram"
           }
          ],
          "histogram2d": [
           {
            "colorbar": {
             "outlinewidth": 0,
             "ticks": ""
            },
            "colorscale": [
             [
              0,
              "#0d0887"
             ],
             [
              0.1111111111111111,
              "#46039f"
             ],
             [
              0.2222222222222222,
              "#7201a8"
             ],
             [
              0.3333333333333333,
              "#9c179e"
             ],
             [
              0.4444444444444444,
              "#bd3786"
             ],
             [
              0.5555555555555556,
              "#d8576b"
             ],
             [
              0.6666666666666666,
              "#ed7953"
             ],
             [
              0.7777777777777778,
              "#fb9f3a"
             ],
             [
              0.8888888888888888,
              "#fdca26"
             ],
             [
              1,
              "#f0f921"
             ]
            ],
            "type": "histogram2d"
           }
          ],
          "histogram2dcontour": [
           {
            "colorbar": {
             "outlinewidth": 0,
             "ticks": ""
            },
            "colorscale": [
             [
              0,
              "#0d0887"
             ],
             [
              0.1111111111111111,
              "#46039f"
             ],
             [
              0.2222222222222222,
              "#7201a8"
             ],
             [
              0.3333333333333333,
              "#9c179e"
             ],
             [
              0.4444444444444444,
              "#bd3786"
             ],
             [
              0.5555555555555556,
              "#d8576b"
             ],
             [
              0.6666666666666666,
              "#ed7953"
             ],
             [
              0.7777777777777778,
              "#fb9f3a"
             ],
             [
              0.8888888888888888,
              "#fdca26"
             ],
             [
              1,
              "#f0f921"
             ]
            ],
            "type": "histogram2dcontour"
           }
          ],
          "mesh3d": [
           {
            "colorbar": {
             "outlinewidth": 0,
             "ticks": ""
            },
            "type": "mesh3d"
           }
          ],
          "parcoords": [
           {
            "line": {
             "colorbar": {
              "outlinewidth": 0,
              "ticks": ""
             }
            },
            "type": "parcoords"
           }
          ],
          "pie": [
           {
            "automargin": true,
            "type": "pie"
           }
          ],
          "scatter": [
           {
            "fillpattern": {
             "fillmode": "overlay",
             "size": 10,
             "solidity": 0.2
            },
            "type": "scatter"
           }
          ],
          "scatter3d": [
           {
            "line": {
             "colorbar": {
              "outlinewidth": 0,
              "ticks": ""
             }
            },
            "marker": {
             "colorbar": {
              "outlinewidth": 0,
              "ticks": ""
             }
            },
            "type": "scatter3d"
           }
          ],
          "scattercarpet": [
           {
            "marker": {
             "colorbar": {
              "outlinewidth": 0,
              "ticks": ""
             }
            },
            "type": "scattercarpet"
           }
          ],
          "scattergeo": [
           {
            "marker": {
             "colorbar": {
              "outlinewidth": 0,
              "ticks": ""
             }
            },
            "type": "scattergeo"
           }
          ],
          "scattergl": [
           {
            "marker": {
             "colorbar": {
              "outlinewidth": 0,
              "ticks": ""
             }
            },
            "type": "scattergl"
           }
          ],
          "scattermapbox": [
           {
            "marker": {
             "colorbar": {
              "outlinewidth": 0,
              "ticks": ""
             }
            },
            "type": "scattermapbox"
           }
          ],
          "scatterpolar": [
           {
            "marker": {
             "colorbar": {
              "outlinewidth": 0,
              "ticks": ""
             }
            },
            "type": "scatterpolar"
           }
          ],
          "scatterpolargl": [
           {
            "marker": {
             "colorbar": {
              "outlinewidth": 0,
              "ticks": ""
             }
            },
            "type": "scatterpolargl"
           }
          ],
          "scatterternary": [
           {
            "marker": {
             "colorbar": {
              "outlinewidth": 0,
              "ticks": ""
             }
            },
            "type": "scatterternary"
           }
          ],
          "surface": [
           {
            "colorbar": {
             "outlinewidth": 0,
             "ticks": ""
            },
            "colorscale": [
             [
              0,
              "#0d0887"
             ],
             [
              0.1111111111111111,
              "#46039f"
             ],
             [
              0.2222222222222222,
              "#7201a8"
             ],
             [
              0.3333333333333333,
              "#9c179e"
             ],
             [
              0.4444444444444444,
              "#bd3786"
             ],
             [
              0.5555555555555556,
              "#d8576b"
             ],
             [
              0.6666666666666666,
              "#ed7953"
             ],
             [
              0.7777777777777778,
              "#fb9f3a"
             ],
             [
              0.8888888888888888,
              "#fdca26"
             ],
             [
              1,
              "#f0f921"
             ]
            ],
            "type": "surface"
           }
          ],
          "table": [
           {
            "cells": {
             "fill": {
              "color": "#EBF0F8"
             },
             "line": {
              "color": "white"
             }
            },
            "header": {
             "fill": {
              "color": "#C8D4E3"
             },
             "line": {
              "color": "white"
             }
            },
            "type": "table"
           }
          ]
         },
         "layout": {
          "annotationdefaults": {
           "arrowcolor": "#2a3f5f",
           "arrowhead": 0,
           "arrowwidth": 1
          },
          "autotypenumbers": "strict",
          "coloraxis": {
           "colorbar": {
            "outlinewidth": 0,
            "ticks": ""
           }
          },
          "colorscale": {
           "diverging": [
            [
             0,
             "#8e0152"
            ],
            [
             0.1,
             "#c51b7d"
            ],
            [
             0.2,
             "#de77ae"
            ],
            [
             0.3,
             "#f1b6da"
            ],
            [
             0.4,
             "#fde0ef"
            ],
            [
             0.5,
             "#f7f7f7"
            ],
            [
             0.6,
             "#e6f5d0"
            ],
            [
             0.7,
             "#b8e186"
            ],
            [
             0.8,
             "#7fbc41"
            ],
            [
             0.9,
             "#4d9221"
            ],
            [
             1,
             "#276419"
            ]
           ],
           "sequential": [
            [
             0,
             "#0d0887"
            ],
            [
             0.1111111111111111,
             "#46039f"
            ],
            [
             0.2222222222222222,
             "#7201a8"
            ],
            [
             0.3333333333333333,
             "#9c179e"
            ],
            [
             0.4444444444444444,
             "#bd3786"
            ],
            [
             0.5555555555555556,
             "#d8576b"
            ],
            [
             0.6666666666666666,
             "#ed7953"
            ],
            [
             0.7777777777777778,
             "#fb9f3a"
            ],
            [
             0.8888888888888888,
             "#fdca26"
            ],
            [
             1,
             "#f0f921"
            ]
           ],
           "sequentialminus": [
            [
             0,
             "#0d0887"
            ],
            [
             0.1111111111111111,
             "#46039f"
            ],
            [
             0.2222222222222222,
             "#7201a8"
            ],
            [
             0.3333333333333333,
             "#9c179e"
            ],
            [
             0.4444444444444444,
             "#bd3786"
            ],
            [
             0.5555555555555556,
             "#d8576b"
            ],
            [
             0.6666666666666666,
             "#ed7953"
            ],
            [
             0.7777777777777778,
             "#fb9f3a"
            ],
            [
             0.8888888888888888,
             "#fdca26"
            ],
            [
             1,
             "#f0f921"
            ]
           ]
          },
          "colorway": [
           "#636efa",
           "#EF553B",
           "#00cc96",
           "#ab63fa",
           "#FFA15A",
           "#19d3f3",
           "#FF6692",
           "#B6E880",
           "#FF97FF",
           "#FECB52"
          ],
          "font": {
           "color": "#2a3f5f"
          },
          "geo": {
           "bgcolor": "white",
           "lakecolor": "white",
           "landcolor": "#E5ECF6",
           "showlakes": true,
           "showland": true,
           "subunitcolor": "white"
          },
          "hoverlabel": {
           "align": "left"
          },
          "hovermode": "closest",
          "mapbox": {
           "style": "light"
          },
          "paper_bgcolor": "white",
          "plot_bgcolor": "#E5ECF6",
          "polar": {
           "angularaxis": {
            "gridcolor": "white",
            "linecolor": "white",
            "ticks": ""
           },
           "bgcolor": "#E5ECF6",
           "radialaxis": {
            "gridcolor": "white",
            "linecolor": "white",
            "ticks": ""
           }
          },
          "scene": {
           "xaxis": {
            "backgroundcolor": "#E5ECF6",
            "gridcolor": "white",
            "gridwidth": 2,
            "linecolor": "white",
            "showbackground": true,
            "ticks": "",
            "zerolinecolor": "white"
           },
           "yaxis": {
            "backgroundcolor": "#E5ECF6",
            "gridcolor": "white",
            "gridwidth": 2,
            "linecolor": "white",
            "showbackground": true,
            "ticks": "",
            "zerolinecolor": "white"
           },
           "zaxis": {
            "backgroundcolor": "#E5ECF6",
            "gridcolor": "white",
            "gridwidth": 2,
            "linecolor": "white",
            "showbackground": true,
            "ticks": "",
            "zerolinecolor": "white"
           }
          },
          "shapedefaults": {
           "line": {
            "color": "#2a3f5f"
           }
          },
          "ternary": {
           "aaxis": {
            "gridcolor": "white",
            "linecolor": "white",
            "ticks": ""
           },
           "baxis": {
            "gridcolor": "white",
            "linecolor": "white",
            "ticks": ""
           },
           "bgcolor": "#E5ECF6",
           "caxis": {
            "gridcolor": "white",
            "linecolor": "white",
            "ticks": ""
           }
          },
          "title": {
           "x": 0.05
          },
          "xaxis": {
           "automargin": true,
           "gridcolor": "white",
           "linecolor": "white",
           "ticks": "",
           "title": {
            "standoff": 15
           },
           "zerolinecolor": "white",
           "zerolinewidth": 2
          },
          "yaxis": {
           "automargin": true,
           "gridcolor": "white",
           "linecolor": "white",
           "ticks": "",
           "title": {
            "standoff": 15
           },
           "zerolinecolor": "white",
           "zerolinewidth": 2
          }
         }
        }
       }
      }
     },
     "metadata": {},
     "output_type": "display_data"
    }
   ],
   "source": [
    "grafico = px.scatter_matrix(menosGols, dimensions=['Posicao', 'Gols Pro', 'Ano'])\n",
    "grafico.show()"
   ]
  },
  {
   "cell_type": "markdown",
   "metadata": {},
   "source": [
    "### 4. Qual média de derrotas dos times que foram rebaixados?"
   ]
  },
  {
   "cell_type": "code",
   "execution_count": null,
   "metadata": {},
   "outputs": [
    {
     "data": {
      "text/plain": [
       "<AxesSubplot:xlabel='Ano', ylabel='Derrotas'>"
      ]
     },
     "execution_count": 77,
     "metadata": {},
     "output_type": "execute_result"
    },
    {
     "data": {
      "image/png": "[encoded data removed]",
      "text/plain": [
       "<Figure size 432x288 with 1 Axes>"
      ]
     },
     "metadata": {
      "needs_background": "light"
     },
     "output_type": "display_data"
    }
   ],
   "source": [
    "filtro = dfBrasileirao['Posicao']>16\n",
    "sns.lineplot(x=\"Ano\", y=\"Derrotas\", data=dfBrasileirao[filtro]) "
   ]
  },
  {
   "cell_type": "markdown",
   "metadata": {},
   "source": [
    "### 5. Os times que vencem os campeonatos são os times que fazem mais gols? "
   ]
  },
  {
   "cell_type": "markdown",
   "metadata": {},
   "source": [
    "#### Media de gols dos campeões"
   ]
  },
  {
   "cell_type": "code",
   "execution_count": null,
   "metadata": {},
   "outputs": [
    {
     "data": {
      "text/plain": [
       "<AxesSubplot:xlabel='Ano', ylabel='Gols Pro'>"
      ]
     },
     "execution_count": 78,
     "metadata": {},
     "output_type": "execute_result"
    },
    {
     "data": {
      "image/png": "[encoded data removed]",
      "text/plain": [
       "<Figure size 432x288 with 1 Axes>"
      ]
     },
     "metadata": {
      "needs_background": "light"
     },
     "output_type": "display_data"
    }
   ],
   "source": [
    "filtro = dfBrasileirao['Posicao'] == 1\n",
    "sns.lineplot(x=\"Ano\", y=\"Gols Pro\", data=dfBrasileirao[filtro]) "
   ]
  },
  {
   "cell_type": "code",
   "execution_count": null,
   "metadata": {},
   "outputs": [
    {
     "data": {
      "text/plain": [
       "<AxesSubplot:xlabel='Ano', ylabel='Gols Pro'>"
      ]
     },
     "execution_count": 89,
     "metadata": {},
     "output_type": "execute_result"
    },
    {
     "data": {
      "image/png": "[encoded data removed]",
      "text/plain": [
       "<Figure size 432x288 with 1 Axes>"
      ]
     },
     "metadata": {
      "needs_background": "light"
     },
     "output_type": "display_data"
    }
   ],
   "source": [
    "filtro = dfBrasileirao['Posicao'] == 1\n",
    "sns.stripplot(x=\"Ano\", y=\"Gols Pro\", data=dfBrasileirao[filtro]) "
   ]
  },
  {
   "cell_type": "markdown",
   "metadata": {},
   "source": [
    "#### Mais gols por anos"
   ]
  },
  {
   "cell_type": "code",
   "execution_count": null,
   "metadata": {},
   "outputs": [
    {
     "data": {
      "text/html": [
       "<div>\n",
       "<style scoped>\n",
       "    .dataframe tbody tr th:only-of-type {\n",
       "        vertical-align: middle;\n",
       "    }\n",
       "\n",
       "    .dataframe tbody tr th {\n",
       "        vertical-align: top;\n",
       "    }\n",
       "\n",
       "    .dataframe thead th {\n",
       "        text-align: right;\n",
       "    }\n",
       "</style>\n",
       "<table border=\"1\" class=\"dataframe\">\n",
       "  <thead>\n",
       "    <tr style=\"text-align: right;\">\n",
       "      <th></th>\n",
       "      <th>Posicao</th>\n",
       "      <th>Jogos</th>\n",
       "      <th>Empates</th>\n",
       "      <th>Derrotas</th>\n",
       "      <th>Vitorias</th>\n",
       "      <th>Ano</th>\n",
       "      <th>Pontos</th>\n",
       "      <th>Cartao Vermelho</th>\n",
       "      <th>Cartao Amarelo</th>\n",
       "      <th>Time</th>\n",
       "      <th>Gols Contra</th>\n",
       "      <th>Gols Pro</th>\n",
       "      <th>Saldo Gols</th>\n",
       "    </tr>\n",
       "  </thead>\n",
       "  <tbody>\n",
       "    <tr>\n",
       "      <th>79</th>\n",
       "      <td>2</td>\n",
       "      <td>38</td>\n",
       "      <td>12</td>\n",
       "      <td>6</td>\n",
       "      <td>20</td>\n",
       "      <td>2012</td>\n",
       "      <td>72</td>\n",
       "      <td>10</td>\n",
       "      <td>104</td>\n",
       "      <td>Atlético</td>\n",
       "      <td>37</td>\n",
       "      <td>64</td>\n",
       "      <td>27</td>\n",
       "    </tr>\n",
       "    <tr>\n",
       "      <th>109</th>\n",
       "      <td>1</td>\n",
       "      <td>38</td>\n",
       "      <td>7</td>\n",
       "      <td>8</td>\n",
       "      <td>23</td>\n",
       "      <td>2013</td>\n",
       "      <td>76</td>\n",
       "      <td>4</td>\n",
       "      <td>73</td>\n",
       "      <td>Cruzeiro</td>\n",
       "      <td>37</td>\n",
       "      <td>77</td>\n",
       "      <td>40</td>\n",
       "    </tr>\n",
       "    <tr>\n",
       "      <th>29</th>\n",
       "      <td>1</td>\n",
       "      <td>38</td>\n",
       "      <td>8</td>\n",
       "      <td>6</td>\n",
       "      <td>24</td>\n",
       "      <td>2014</td>\n",
       "      <td>80</td>\n",
       "      <td>2</td>\n",
       "      <td>70</td>\n",
       "      <td>Cruzeiro</td>\n",
       "      <td>38</td>\n",
       "      <td>67</td>\n",
       "      <td>29</td>\n",
       "    </tr>\n",
       "    <tr>\n",
       "      <th>165</th>\n",
       "      <td>1</td>\n",
       "      <td>38</td>\n",
       "      <td>9</td>\n",
       "      <td>5</td>\n",
       "      <td>24</td>\n",
       "      <td>2015</td>\n",
       "      <td>81</td>\n",
       "      <td>2</td>\n",
       "      <td>64</td>\n",
       "      <td>Corinthians</td>\n",
       "      <td>31</td>\n",
       "      <td>71</td>\n",
       "      <td>40</td>\n",
       "    </tr>\n",
       "    <tr>\n",
       "      <th>14</th>\n",
       "      <td>1</td>\n",
       "      <td>38</td>\n",
       "      <td>8</td>\n",
       "      <td>6</td>\n",
       "      <td>24</td>\n",
       "      <td>2016</td>\n",
       "      <td>80</td>\n",
       "      <td>0</td>\n",
       "      <td>95</td>\n",
       "      <td>Palmeiras</td>\n",
       "      <td>32</td>\n",
       "      <td>62</td>\n",
       "      <td>30</td>\n",
       "    </tr>\n",
       "    <tr>\n",
       "      <th>120</th>\n",
       "      <td>2</td>\n",
       "      <td>38</td>\n",
       "      <td>6</td>\n",
       "      <td>13</td>\n",
       "      <td>19</td>\n",
       "      <td>2017</td>\n",
       "      <td>63</td>\n",
       "      <td>4</td>\n",
       "      <td>87</td>\n",
       "      <td>Palmeiras</td>\n",
       "      <td>45</td>\n",
       "      <td>61</td>\n",
       "      <td>16</td>\n",
       "    </tr>\n",
       "    <tr>\n",
       "      <th>113</th>\n",
       "      <td>1</td>\n",
       "      <td>38</td>\n",
       "      <td>11</td>\n",
       "      <td>4</td>\n",
       "      <td>23</td>\n",
       "      <td>2018</td>\n",
       "      <td>80</td>\n",
       "      <td>5</td>\n",
       "      <td>117</td>\n",
       "      <td>Palmeiras</td>\n",
       "      <td>26</td>\n",
       "      <td>64</td>\n",
       "      <td>38</td>\n",
       "    </tr>\n",
       "    <tr>\n",
       "      <th>90</th>\n",
       "      <td>1</td>\n",
       "      <td>38</td>\n",
       "      <td>6</td>\n",
       "      <td>4</td>\n",
       "      <td>28</td>\n",
       "      <td>2019</td>\n",
       "      <td>90</td>\n",
       "      <td>3</td>\n",
       "      <td>90</td>\n",
       "      <td>Flamengo</td>\n",
       "      <td>37</td>\n",
       "      <td>86</td>\n",
       "      <td>49</td>\n",
       "    </tr>\n",
       "    <tr>\n",
       "      <th>75</th>\n",
       "      <td>1</td>\n",
       "      <td>38</td>\n",
       "      <td>8</td>\n",
       "      <td>9</td>\n",
       "      <td>21</td>\n",
       "      <td>2020</td>\n",
       "      <td>71</td>\n",
       "      <td>4</td>\n",
       "      <td>90</td>\n",
       "      <td>Flamengo</td>\n",
       "      <td>48</td>\n",
       "      <td>68</td>\n",
       "      <td>20</td>\n",
       "    </tr>\n",
       "    <tr>\n",
       "      <th>33</th>\n",
       "      <td>2</td>\n",
       "      <td>38</td>\n",
       "      <td>8</td>\n",
       "      <td>9</td>\n",
       "      <td>21</td>\n",
       "      <td>2021</td>\n",
       "      <td>71</td>\n",
       "      <td>4</td>\n",
       "      <td>82</td>\n",
       "      <td>Flamengo</td>\n",
       "      <td>36</td>\n",
       "      <td>69</td>\n",
       "      <td>33</td>\n",
       "    </tr>\n",
       "  </tbody>\n",
       "</table>\n",
       "</div>"
      ],
      "text/plain": [
       "     Posicao  Jogos  Empates  Derrotas  Vitorias   Ano  Pontos  \\\n",
       "79         2     38       12         6        20  2012      72   \n",
       "109        1     38        7         8        23  2013      76   \n",
       "29         1     38        8         6        24  2014      80   \n",
       "165        1     38        9         5        24  2015      81   \n",
       "14         1     38        8         6        24  2016      80   \n",
       "120        2     38        6        13        19  2017      63   \n",
       "113        1     38       11         4        23  2018      80   \n",
       "90         1     38        6         4        28  2019      90   \n",
       "75         1     38        8         9        21  2020      71   \n",
       "33         2     38        8         9        21  2021      71   \n",
       "\n",
       "     Cartao Vermelho  Cartao Amarelo         Time  Gols Contra  Gols Pro  \\\n",
       "79                10             104     Atlético           37        64   \n",
       "109                4              73     Cruzeiro           37        77   \n",
       "29                 2              70     Cruzeiro           38        67   \n",
       "165                2              64  Corinthians           31        71   \n",
       "14                 0              95    Palmeiras           32        62   \n",
       "120                4              87    Palmeiras           45        61   \n",
       "113                5             117    Palmeiras           26        64   \n",
       "90                 3              90     Flamengo           37        86   \n",
       "75                 4              90     Flamengo           48        68   \n",
       "33                 4              82     Flamengo           36        69   \n",
       "\n",
       "     Saldo Gols  \n",
       "79           27  \n",
       "109          40  \n",
       "29           29  \n",
       "165          40  \n",
       "14           30  \n",
       "120          16  \n",
       "113          38  \n",
       "90           49  \n",
       "75           20  \n",
       "33           33  "
      ]
     },
     "execution_count": 83,
     "metadata": {},
     "output_type": "execute_result"
    }
   ],
   "source": [
    "ltDfBr = []\n",
    "\n",
    "for i in range(2012, 2022):\n",
    "    filtro = dfBrasileirao['Ano'] == i\n",
    "    ltDfBr.append(dfBrasileirao[filtro])\n",
    "\n",
    "j = 0\n",
    "maisGols = 0\n",
    "for i in ltDfBr:\n",
    "    filtro = i[ i['Gols Pro'] == i['Gols Pro'].max()]\n",
    "    if j == 0:\n",
    "        maisGols = filtro\n",
    "    else:\n",
    "        maisGols = maisGols.append(filtro)\n",
    "    j+=1\n",
    "\n",
    "maisGols.head(13)"
   ]
  },
  {
   "cell_type": "code",
   "execution_count": null,
   "metadata": {},
   "outputs": [
    {
     "data": {
      "image/png": "[encoded data removed]",
      "text/plain": [
       "<Figure size 432x288 with 1 Axes>"
      ]
     },
     "metadata": {
      "needs_background": "light"
     },
     "output_type": "display_data"
    }
   ],
   "source": [
    "sns.stripplot(x = 'Posicao', y = maisGols['Gols Pro'] ,data=maisGols)\n",
    "plt.show()"
   ]
  },
  {
   "cell_type": "code",
   "execution_count": null,
   "metadata": {},
   "outputs": [
    {
     "data": {
      "image/png": "[encoded data removed]",
      "text/plain": [
       "<Figure size 432x288 with 1 Axes>"
      ]
     },
     "metadata": {
      "needs_background": "light"
     },
     "output_type": "display_data"
    }
   ],
   "source": [
    "sns.stripplot(x = 'Ano', y = 'Posicao' ,data=maisGols)\n",
    "plt.show()"
   ]
  },
  {
   "cell_type": "markdown",
   "metadata": {},
   "source": [
    "### 6. Os time que tomam menos gols, ficam em qual zona na tabela? "
   ]
  },
  {
   "cell_type": "markdown",
   "metadata": {},
   "source": [
    "#### Menos gols sofridos geral"
   ]
  },
  {
   "cell_type": "code",
   "execution_count": null,
   "metadata": {},
   "outputs": [
    {
     "data": {
      "text/plain": [
       "<AxesSubplot:xlabel='Ano', ylabel='Posicao'>"
      ]
     },
     "execution_count": 95,
     "metadata": {},
     "output_type": "execute_result"
    },
    {
     "data": {
      "image/png": "[encoded data removed]",
      "text/plain": [
       "<Figure size 432x288 with 1 Axes>"
      ]
     },
     "metadata": {
      "needs_background": "light"
     },
     "output_type": "display_data"
    }
   ],
   "source": [
    "filtro = dfBrasileirao[dfBrasileirao['Gols Contra'] == dfBrasileirao['Gols Contra'].min()]\n",
    "sns.stripplot(x=\"Ano\", y=\"Posicao\", data=filtro) "
   ]
  },
  {
   "cell_type": "markdown",
   "metadata": {},
   "source": [
    "#### Menos Gols sofridos por Ano"
   ]
  },
  {
   "cell_type": "code",
   "execution_count": null,
   "metadata": {},
   "outputs": [
    {
     "data": {
      "text/html": [
       "<div>\n",
       "<style scoped>\n",
       "    .dataframe tbody tr th:only-of-type {\n",
       "        vertical-align: middle;\n",
       "    }\n",
       "\n",
       "    .dataframe tbody tr th {\n",
       "        vertical-align: top;\n",
       "    }\n",
       "\n",
       "    .dataframe thead th {\n",
       "        text-align: right;\n",
       "    }\n",
       "</style>\n",
       "<table border=\"1\" class=\"dataframe\">\n",
       "  <thead>\n",
       "    <tr style=\"text-align: right;\">\n",
       "      <th></th>\n",
       "      <th>Posicao</th>\n",
       "      <th>Jogos</th>\n",
       "      <th>Empates</th>\n",
       "      <th>Derrotas</th>\n",
       "      <th>Vitorias</th>\n",
       "      <th>Ano</th>\n",
       "      <th>Pontos</th>\n",
       "      <th>Cartao Vermelho</th>\n",
       "      <th>Cartao Amarelo</th>\n",
       "      <th>Time</th>\n",
       "      <th>Gols Contra</th>\n",
       "      <th>Gols Pro</th>\n",
       "      <th>Saldo Gols</th>\n",
       "    </tr>\n",
       "  </thead>\n",
       "  <tbody>\n",
       "    <tr>\n",
       "      <th>12</th>\n",
       "      <td>1</td>\n",
       "      <td>38</td>\n",
       "      <td>11</td>\n",
       "      <td>5</td>\n",
       "      <td>22</td>\n",
       "      <td>2012</td>\n",
       "      <td>77</td>\n",
       "      <td>3</td>\n",
       "      <td>85</td>\n",
       "      <td>Fluminense</td>\n",
       "      <td>33</td>\n",
       "      <td>61</td>\n",
       "      <td>28</td>\n",
       "    </tr>\n",
       "    <tr>\n",
       "      <th>126</th>\n",
       "      <td>3</td>\n",
       "      <td>38</td>\n",
       "      <td>11</td>\n",
       "      <td>7</td>\n",
       "      <td>20</td>\n",
       "      <td>2012</td>\n",
       "      <td>71</td>\n",
       "      <td>9</td>\n",
       "      <td>102</td>\n",
       "      <td>Grêmio</td>\n",
       "      <td>33</td>\n",
       "      <td>56</td>\n",
       "      <td>23</td>\n",
       "    </tr>\n",
       "    <tr>\n",
       "      <th>32</th>\n",
       "      <td>10</td>\n",
       "      <td>38</td>\n",
       "      <td>17</td>\n",
       "      <td>10</td>\n",
       "      <td>11</td>\n",
       "      <td>2013</td>\n",
       "      <td>50</td>\n",
       "      <td>3</td>\n",
       "      <td>66</td>\n",
       "      <td>Corinthians</td>\n",
       "      <td>22</td>\n",
       "      <td>27</td>\n",
       "      <td>5</td>\n",
       "    </tr>\n",
       "    <tr>\n",
       "      <th>168</th>\n",
       "      <td>7</td>\n",
       "      <td>38</td>\n",
       "      <td>10</td>\n",
       "      <td>11</td>\n",
       "      <td>17</td>\n",
       "      <td>2014</td>\n",
       "      <td>61</td>\n",
       "      <td>3</td>\n",
       "      <td>95</td>\n",
       "      <td>Grêmio</td>\n",
       "      <td>24</td>\n",
       "      <td>36</td>\n",
       "      <td>12</td>\n",
       "    </tr>\n",
       "    <tr>\n",
       "      <th>165</th>\n",
       "      <td>1</td>\n",
       "      <td>38</td>\n",
       "      <td>9</td>\n",
       "      <td>5</td>\n",
       "      <td>24</td>\n",
       "      <td>2015</td>\n",
       "      <td>81</td>\n",
       "      <td>2</td>\n",
       "      <td>64</td>\n",
       "      <td>Corinthians</td>\n",
       "      <td>31</td>\n",
       "      <td>71</td>\n",
       "      <td>40</td>\n",
       "    </tr>\n",
       "    <tr>\n",
       "      <th>14</th>\n",
       "      <td>1</td>\n",
       "      <td>38</td>\n",
       "      <td>8</td>\n",
       "      <td>6</td>\n",
       "      <td>24</td>\n",
       "      <td>2016</td>\n",
       "      <td>80</td>\n",
       "      <td>0</td>\n",
       "      <td>95</td>\n",
       "      <td>Palmeiras</td>\n",
       "      <td>32</td>\n",
       "      <td>62</td>\n",
       "      <td>30</td>\n",
       "    </tr>\n",
       "    <tr>\n",
       "      <th>51</th>\n",
       "      <td>6</td>\n",
       "      <td>38</td>\n",
       "      <td>6</td>\n",
       "      <td>15</td>\n",
       "      <td>17</td>\n",
       "      <td>2016</td>\n",
       "      <td>57</td>\n",
       "      <td>1</td>\n",
       "      <td>76</td>\n",
       "      <td>Atlético</td>\n",
       "      <td>32</td>\n",
       "      <td>38</td>\n",
       "      <td>6</td>\n",
       "    </tr>\n",
       "    <tr>\n",
       "      <th>159</th>\n",
       "      <td>1</td>\n",
       "      <td>38</td>\n",
       "      <td>9</td>\n",
       "      <td>8</td>\n",
       "      <td>21</td>\n",
       "      <td>2017</td>\n",
       "      <td>72</td>\n",
       "      <td>1</td>\n",
       "      <td>81</td>\n",
       "      <td>Corinthians</td>\n",
       "      <td>30</td>\n",
       "      <td>50</td>\n",
       "      <td>20</td>\n",
       "    </tr>\n",
       "    <tr>\n",
       "      <th>113</th>\n",
       "      <td>1</td>\n",
       "      <td>38</td>\n",
       "      <td>11</td>\n",
       "      <td>4</td>\n",
       "      <td>23</td>\n",
       "      <td>2018</td>\n",
       "      <td>80</td>\n",
       "      <td>5</td>\n",
       "      <td>117</td>\n",
       "      <td>Palmeiras</td>\n",
       "      <td>26</td>\n",
       "      <td>64</td>\n",
       "      <td>38</td>\n",
       "    </tr>\n",
       "    <tr>\n",
       "      <th>18</th>\n",
       "      <td>6</td>\n",
       "      <td>38</td>\n",
       "      <td>12</td>\n",
       "      <td>9</td>\n",
       "      <td>17</td>\n",
       "      <td>2019</td>\n",
       "      <td>63</td>\n",
       "      <td>7</td>\n",
       "      <td>87</td>\n",
       "      <td>SãoPaulo</td>\n",
       "      <td>30</td>\n",
       "      <td>39</td>\n",
       "      <td>9</td>\n",
       "    </tr>\n",
       "    <tr>\n",
       "      <th>52</th>\n",
       "      <td>2</td>\n",
       "      <td>38</td>\n",
       "      <td>10</td>\n",
       "      <td>8</td>\n",
       "      <td>20</td>\n",
       "      <td>2020</td>\n",
       "      <td>70</td>\n",
       "      <td>9</td>\n",
       "      <td>91</td>\n",
       "      <td>Internacional</td>\n",
       "      <td>35</td>\n",
       "      <td>61</td>\n",
       "      <td>26</td>\n",
       "    </tr>\n",
       "    <tr>\n",
       "      <th>71</th>\n",
       "      <td>1</td>\n",
       "      <td>38</td>\n",
       "      <td>6</td>\n",
       "      <td>6</td>\n",
       "      <td>26</td>\n",
       "      <td>2021</td>\n",
       "      <td>84</td>\n",
       "      <td>4</td>\n",
       "      <td>82</td>\n",
       "      <td>AtléticoMineiro</td>\n",
       "      <td>34</td>\n",
       "      <td>67</td>\n",
       "      <td>33</td>\n",
       "    </tr>\n",
       "  </tbody>\n",
       "</table>\n",
       "</div>"
      ],
      "text/plain": [
       "     Posicao  Jogos  Empates  Derrotas  Vitorias   Ano  Pontos  \\\n",
       "12         1     38       11         5        22  2012      77   \n",
       "126        3     38       11         7        20  2012      71   \n",
       "32        10     38       17        10        11  2013      50   \n",
       "168        7     38       10        11        17  2014      61   \n",
       "165        1     38        9         5        24  2015      81   \n",
       "14         1     38        8         6        24  2016      80   \n",
       "51         6     38        6        15        17  2016      57   \n",
       "159        1     38        9         8        21  2017      72   \n",
       "113        1     38       11         4        23  2018      80   \n",
       "18         6     38       12         9        17  2019      63   \n",
       "52         2     38       10         8        20  2020      70   \n",
       "71         1     38        6         6        26  2021      84   \n",
       "\n",
       "     Cartao Vermelho  Cartao Amarelo             Time  Gols Contra  Gols Pro  \\\n",
       "12                 3              85       Fluminense           33        61   \n",
       "126                9             102           Grêmio           33        56   \n",
       "32                 3              66      Corinthians           22        27   \n",
       "168                3              95           Grêmio           24        36   \n",
       "165                2              64      Corinthians           31        71   \n",
       "14                 0              95        Palmeiras           32        62   \n",
       "51                 1              76         Atlético           32        38   \n",
       "159                1              81      Corinthians           30        50   \n",
       "113                5             117        Palmeiras           26        64   \n",
       "18                 7              87         SãoPaulo           30        39   \n",
       "52                 9              91    Internacional           35        61   \n",
       "71                 4              82  AtléticoMineiro           34        67   \n",
       "\n",
       "     Saldo Gols  \n",
       "12           28  \n",
       "126          23  \n",
       "32            5  \n",
       "168          12  \n",
       "165          40  \n",
       "14           30  \n",
       "51            6  \n",
       "159          20  \n",
       "113          38  \n",
       "18            9  \n",
       "52           26  \n",
       "71           33  "
      ]
     },
     "execution_count": 97,
     "metadata": {},
     "output_type": "execute_result"
    }
   ],
   "source": [
    "ltDfBr = []\n",
    "\n",
    "for i in range(2012, 2022):\n",
    "    filtro = dfBrasileirao['Ano'] == i\n",
    "    ltDfBr.append(dfBrasileirao[filtro])\n",
    "\n",
    "j = 0\n",
    "menosGolsSofridos = 0\n",
    "for i in ltDfBr:\n",
    "    filtro = i[ i['Gols Contra'] == i['Gols Contra'].min()]\n",
    "    if j == 0:\n",
    "        menosGolsSofridos = filtro\n",
    "    else:\n",
    "        menosGolsSofridos = menosGolsSofridos.append(filtro)\n",
    "    j+=1\n",
    "\n",
    "menosGolsSofridos.head(13)"
   ]
  },
  {
   "cell_type": "code",
   "execution_count": 111,
   "metadata": {},
   "outputs": [
    {
     "data": {
      "image/png": "[encoded data removed]",
      "text/plain": [
       "<Figure size 432x288 with 1 Axes>"
      ]
     },
     "metadata": {
      "needs_background": "light"
     },
     "output_type": "display_data"
    }
   ],
   "source": [
    "sns.lineplot(x = 'Ano', y = 'Posicao' ,data=menosGolsSofridos)\n",
    "plt.show()"
   ]
  },
  {
   "cell_type": "code",
   "execution_count": null,
   "metadata": {},
   "outputs": [
    {
     "data": {
      "image/png": "[encoded data removed]",
      "text/plain": [
       "<Figure size 432x288 with 1 Axes>"
      ]
     },
     "metadata": {
      "needs_background": "light"
     },
     "output_type": "display_data"
    }
   ],
   "source": [
    "sns.stripplot(x = 'Ano', y = 'Posicao' ,data=menosGolsSofridos)\n",
    "plt.show()"
   ]
  },
  {
   "cell_type": "markdown",
   "metadata": {},
   "source": [
    "# Analise Futura\n",
    "Posteirormente, as proximas perguntas que iremos responder serão as seguites:\n",
    "1. O time que vence o campeonato é o time que mais faz pontos no primeiro ciclo de jogos?\n",
    "2. O time que mais chuta é o time que mais faz gol?\n",
    "3. Os 3 primeiros artilheiros do campeonato, refletem no time ficar nas zonas excelentes ou ótimas?\n",
    "4. Os times que fazem mais gols em um jogo, ficam em qual zona da tabela?\n",
    "5. Os times que tomam mais gols em um jogo, ficam em qual zona da tabela?\n",
    "6. O time com mais média de posse de bola, fica em qual zona da tabela?\n",
    "7. Existe um esquema tatico mais vencedor no campeonato?\n",
    "8. O time que vence o campeonato, vence mais que os outros dentro e fora de casa?"
   ]
  }
 ],
 "metadata": {
  "kernelspec": {
   "display_name": "Python 3.9.7 ('base')",
   "language": "python",
   "name": "python3"
  },
  "language_info": {
   "codemirror_mode": {
    "name": "ipython",
    "version": 3
   },
   "file_extension": ".py",
   "mimetype": "text/x-python",
   "name": "python",
   "nbconvert_exporter": "python",
   "pygments_lexer": "ipython3",
   "version": "3.9.7"
  },
  "orig_nbformat": 4,
  "vscode": {
   "interpreter": {
    "hash": "c442dd7f3a5c14190a83d939ba16ad476e07374d22964649b3b3bb6963ed1656"
   }
  }
 },
 "nbformat": 4,
 "nbformat_minor": 2
}
